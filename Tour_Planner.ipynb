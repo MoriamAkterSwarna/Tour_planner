{
  "nbformat": 4,
  "nbformat_minor": 0,
  "metadata": {
    "colab": {
      "provenance": []
    },
    "kernelspec": {
      "name": "python3",
      "display_name": "Python 3"
    },
    "language_info": {
      "name": "python"
    }
  },
  "cells": [
    {
      "cell_type": "code",
      "execution_count": 1,
      "metadata": {
        "id": "CTGjryjWojt6"
      },
      "outputs": [],
      "source": [
        "# import library..\n",
        "import pandas as pd\n",
        "import numpy as np\n",
        "from sklearn.preprocessing import LabelEncoder\n",
        "from sklearn.model_selection import train_test_split\n",
        "from sklearn.tree import DecisionTreeClassifier, export_graphviz\n",
        "from sklearn.metrics import accuracy_score,classification_report, confusion_matrix\n",
        "from sklearn.naive_bayes import  GaussianNB\n",
        "from sklearn.svm import SVC\n",
        "from sklearn.ensemble import RandomForestClassifier\n",
        "from sklearn.metrics import mean_absolute_error, r2_score\n",
        "from sklearn.linear_model import LinearRegression\n",
        "from sklearn.neighbors import KNeighborsClassifier\n",
        "import matplotlib.pyplot as plt\n",
        "import seaborn as sns\n",
        "from sklearn.metrics import plot_confusion_matrix"
      ]
    },
    {
      "cell_type": "code",
      "source": [
        "from google.colab import files\n",
        "files.upload()"
      ],
      "metadata": {
        "id": "cidlpbxhprVG",
        "colab": {
          "base_uri": "https://localhost:8080/",
          "height": 128
        },
        "outputId": "4c4e3c6a-d125-4427-ade4-a2566f8a0485"
      },
      "execution_count": 2,
      "outputs": [
        {
          "output_type": "display_data",
          "data": {
            "text/plain": [
              "<IPython.core.display.HTML object>"
            ],
            "text/html": [
              "\n",
              "     <input type=\"file\" id=\"files-9c1806ba-24a9-4745-99b1-01a2ed6398b5\" name=\"files[]\" multiple disabled\n",
              "        style=\"border:none\" />\n",
              "     <output id=\"result-9c1806ba-24a9-4745-99b1-01a2ed6398b5\">\n",
              "      Upload widget is only available when the cell has been executed in the\n",
              "      current browser session. Please rerun this cell to enable.\n",
              "      </output>\n",
              "      <script>// Copyright 2017 Google LLC\n",
              "//\n",
              "// Licensed under the Apache License, Version 2.0 (the \"License\");\n",
              "// you may not use this file except in compliance with the License.\n",
              "// You may obtain a copy of the License at\n",
              "//\n",
              "//      http://www.apache.org/licenses/LICENSE-2.0\n",
              "//\n",
              "// Unless required by applicable law or agreed to in writing, software\n",
              "// distributed under the License is distributed on an \"AS IS\" BASIS,\n",
              "// WITHOUT WARRANTIES OR CONDITIONS OF ANY KIND, either express or implied.\n",
              "// See the License for the specific language governing permissions and\n",
              "// limitations under the License.\n",
              "\n",
              "/**\n",
              " * @fileoverview Helpers for google.colab Python module.\n",
              " */\n",
              "(function(scope) {\n",
              "function span(text, styleAttributes = {}) {\n",
              "  const element = document.createElement('span');\n",
              "  element.textContent = text;\n",
              "  for (const key of Object.keys(styleAttributes)) {\n",
              "    element.style[key] = styleAttributes[key];\n",
              "  }\n",
              "  return element;\n",
              "}\n",
              "\n",
              "// Max number of bytes which will be uploaded at a time.\n",
              "const MAX_PAYLOAD_SIZE = 100 * 1024;\n",
              "\n",
              "function _uploadFiles(inputId, outputId) {\n",
              "  const steps = uploadFilesStep(inputId, outputId);\n",
              "  const outputElement = document.getElementById(outputId);\n",
              "  // Cache steps on the outputElement to make it available for the next call\n",
              "  // to uploadFilesContinue from Python.\n",
              "  outputElement.steps = steps;\n",
              "\n",
              "  return _uploadFilesContinue(outputId);\n",
              "}\n",
              "\n",
              "// This is roughly an async generator (not supported in the browser yet),\n",
              "// where there are multiple asynchronous steps and the Python side is going\n",
              "// to poll for completion of each step.\n",
              "// This uses a Promise to block the python side on completion of each step,\n",
              "// then passes the result of the previous step as the input to the next step.\n",
              "function _uploadFilesContinue(outputId) {\n",
              "  const outputElement = document.getElementById(outputId);\n",
              "  const steps = outputElement.steps;\n",
              "\n",
              "  const next = steps.next(outputElement.lastPromiseValue);\n",
              "  return Promise.resolve(next.value.promise).then((value) => {\n",
              "    // Cache the last promise value to make it available to the next\n",
              "    // step of the generator.\n",
              "    outputElement.lastPromiseValue = value;\n",
              "    return next.value.response;\n",
              "  });\n",
              "}\n",
              "\n",
              "/**\n",
              " * Generator function which is called between each async step of the upload\n",
              " * process.\n",
              " * @param {string} inputId Element ID of the input file picker element.\n",
              " * @param {string} outputId Element ID of the output display.\n",
              " * @return {!Iterable<!Object>} Iterable of next steps.\n",
              " */\n",
              "function* uploadFilesStep(inputId, outputId) {\n",
              "  const inputElement = document.getElementById(inputId);\n",
              "  inputElement.disabled = false;\n",
              "\n",
              "  const outputElement = document.getElementById(outputId);\n",
              "  outputElement.innerHTML = '';\n",
              "\n",
              "  const pickedPromise = new Promise((resolve) => {\n",
              "    inputElement.addEventListener('change', (e) => {\n",
              "      resolve(e.target.files);\n",
              "    });\n",
              "  });\n",
              "\n",
              "  const cancel = document.createElement('button');\n",
              "  inputElement.parentElement.appendChild(cancel);\n",
              "  cancel.textContent = 'Cancel upload';\n",
              "  const cancelPromise = new Promise((resolve) => {\n",
              "    cancel.onclick = () => {\n",
              "      resolve(null);\n",
              "    };\n",
              "  });\n",
              "\n",
              "  // Wait for the user to pick the files.\n",
              "  const files = yield {\n",
              "    promise: Promise.race([pickedPromise, cancelPromise]),\n",
              "    response: {\n",
              "      action: 'starting',\n",
              "    }\n",
              "  };\n",
              "\n",
              "  cancel.remove();\n",
              "\n",
              "  // Disable the input element since further picks are not allowed.\n",
              "  inputElement.disabled = true;\n",
              "\n",
              "  if (!files) {\n",
              "    return {\n",
              "      response: {\n",
              "        action: 'complete',\n",
              "      }\n",
              "    };\n",
              "  }\n",
              "\n",
              "  for (const file of files) {\n",
              "    const li = document.createElement('li');\n",
              "    li.append(span(file.name, {fontWeight: 'bold'}));\n",
              "    li.append(span(\n",
              "        `(${file.type || 'n/a'}) - ${file.size} bytes, ` +\n",
              "        `last modified: ${\n",
              "            file.lastModifiedDate ? file.lastModifiedDate.toLocaleDateString() :\n",
              "                                    'n/a'} - `));\n",
              "    const percent = span('0% done');\n",
              "    li.appendChild(percent);\n",
              "\n",
              "    outputElement.appendChild(li);\n",
              "\n",
              "    const fileDataPromise = new Promise((resolve) => {\n",
              "      const reader = new FileReader();\n",
              "      reader.onload = (e) => {\n",
              "        resolve(e.target.result);\n",
              "      };\n",
              "      reader.readAsArrayBuffer(file);\n",
              "    });\n",
              "    // Wait for the data to be ready.\n",
              "    let fileData = yield {\n",
              "      promise: fileDataPromise,\n",
              "      response: {\n",
              "        action: 'continue',\n",
              "      }\n",
              "    };\n",
              "\n",
              "    // Use a chunked sending to avoid message size limits. See b/62115660.\n",
              "    let position = 0;\n",
              "    do {\n",
              "      const length = Math.min(fileData.byteLength - position, MAX_PAYLOAD_SIZE);\n",
              "      const chunk = new Uint8Array(fileData, position, length);\n",
              "      position += length;\n",
              "\n",
              "      const base64 = btoa(String.fromCharCode.apply(null, chunk));\n",
              "      yield {\n",
              "        response: {\n",
              "          action: 'append',\n",
              "          file: file.name,\n",
              "          data: base64,\n",
              "        },\n",
              "      };\n",
              "\n",
              "      let percentDone = fileData.byteLength === 0 ?\n",
              "          100 :\n",
              "          Math.round((position / fileData.byteLength) * 100);\n",
              "      percent.textContent = `${percentDone}% done`;\n",
              "\n",
              "    } while (position < fileData.byteLength);\n",
              "  }\n",
              "\n",
              "  // All done.\n",
              "  yield {\n",
              "    response: {\n",
              "      action: 'complete',\n",
              "    }\n",
              "  };\n",
              "}\n",
              "\n",
              "scope.google = scope.google || {};\n",
              "scope.google.colab = scope.google.colab || {};\n",
              "scope.google.colab._files = {\n",
              "  _uploadFiles,\n",
              "  _uploadFilesContinue,\n",
              "};\n",
              "})(self);\n",
              "</script> "
            ]
          },
          "metadata": {}
        },
        {
          "output_type": "stream",
          "name": "stdout",
          "text": [
            "Saving Tour_Planner7.csv to Tour_Planner7.csv\n"
          ]
        },
        {
          "output_type": "execute_result",
          "data": {
            "text/plain": [
              "{'Tour_Planner7.csv': b\"Travelling_month,transport,count_travel_Times,Personal_rating,total_members,total_cost,Tourists_Spot\\r\\n11,2,3,5,8,9000,Sajek\\r\\n11,2,4,4,8,3000,Sitakunda\\r\\n1,2,2,4,6,7500,Saint_Martin\\r\\n1,2,1,5,3,2000,Tanguar_Haor\\r\\n10,2,1,5,18,5000,Sajek\\r\\n9,2,2,4,8,8000,Bandarban\\r\\n11,2,4,4,8,3000,Sitakunda\\r\\n1,2,2,4,6,7500,Saint_Martin\\r\\n12,5,1,5,2,7000,Sajek\\r\\n3,3,1,1,2,8500,Sajek\\r\\n1,2,1,5,3,2000,Tanguar_Haor\\r\\n9,2,2,4,8,8000,Bandarban\\r\\n12,1,3,5,6,5500,Khagrachari\\r\\n12,1,5,5,5,6000,Sundarban\\r\\n1,2,2,4,6,7500,Saint_Martin\\r\\n1,4,2,4,7,5000,Kuakata\\r\\n1,2,1,5,3,2000,Tanguar_Haor\\r\\n1,1,1,5,5,2500,Sitakunda\\r\\n9,2,2,4,8,8000,Bandarban\\r\\n10,2,3,3,8,2000,Rangamati\\r\\n1,2,2,4,6,7500,Saint_Martin\\r\\n9,2,2,4,8,8000,Bandarban\\r\\n12,5,1,5,2,7000,Sajek\\r\\n11,2,1,3,15,9000,Rangamati\\r\\n11,2,5,5,12,4000,Kuakata\\r\\n9,2,2,4,8,8000,Bandarban\\r\\n10,2,3,3,8,2000,Rangamati\\r\\n1,1,1,5,5,2500,Sitakunda\\r\\n1,2,2,4,6,7500,Saint_Martin\\r\\n4,2,3,4,6,7000,Sajek\\r\\n10,2,3,3,8,2000,Rangamati\\r\\n9,2,2,4,8,8000,Bandarban\\r\\n1,1,6,4,5,5000,Sylhet\\r\\n1,2,1,5,3,2000,Tanguar_Haor\\r\\n1,2,1,5,3,2000,Tanguar_Haor\\r\\n12,1,3,5,6,5500,Khagrachari\\r\\n11,2,4,4,8,3000,Sitakunda\\r\\n1,2,2,4,6,7500,Saint_Martin\\r\\n12,3,1,5,1,15000,Cox's_Bazar\\r\\n12,5,1,5,7,4000,Sylhet\\r\\n10,1,4,4,4,7000,Sylhet\\r\\n11,2,4,4,8,3000,Sitakunda\\r\\n8,2,3,3,6,6200,Rangamati\\r\\n1,2,1,5,3,2000,Tanguar_Haor\\r\\n9,2,2,4,8,8000,Bandarban\\r\\n7,2,3,5,2,6000,Saint_Martin\\r\\n1,1,1,5,5,2500,Sitakunda\\r\\n1,2,2,4,6,7500,Saint_Martin\\r\\n3,2,1,1,8,4000,Kuakata\\r\\n1,2,1,5,3,2000,Tanguar_Haor\\r\\n11,2,4,4,8,3000,Sitakunda\\r\\n12,1,3,5,6,5500,Khagrachari\\r\\n12,2,3,5,8,6000,Saint_Martin\\r\\n12,1,3,5,6,5500,Khagrachari\\r\\n1,2,2,4,6,7500,Saint_Martin\\r\\n9,2,2,4,8,8000,Bandarban\\r\\n1,2,1,5,3,2000,Tanguar_Haor\\r\\n11,2,4,4,8,3000,Sitakunda\\r\\n12,5,1,5,2,7000,Sajek\\r\\n8,2,3,3,6,6200,Rangamati\\r\\n12,1,2,5,6,8500,Sylhet\\r\\n9,2,2,4,8,8000,Bandarban\\r\\n1,1,1,5,5,2500,Sitakunda\\r\\n12,1,3,5,6,5500,Khagrachari\\r\\n2,2,3,5,7,3500,Sylhet\\r\\n4,2,2,5,4,9000,Saint_Martin\\r\\n9,2,2,4,8,8000,Bandarban\\r\\n2,4,5,3,6,6300,Kuakata\\r\\n1,2,1,5,3,2000,Tanguar_Haor\\r\\n1,2,1,5,3,2000,Tanguar_Haor\\r\\n9,2,2,4,8,8000,Bandarban\\r\\n1,2,2,4,6,7500,Saint_Martin\\r\\n12,1,3,5,6,5500,Khagrachari\\r\\n1,2,1,5,3,2000,Tanguar_Haor\\r\\n11,2,4,4,8,3000,Sitakunda\\r\\n8,2,3,3,6,6200,Rangamati\\r\\n1,2,1,5,3,2000,Tanguar_Haor\\r\\n9,2,2,4,8,8000,Bandarban\\r\\n10,3,2,5,2,8000,Saint_Martin\\r\\n1,2,2,4,6,7500,Saint_Martin\\r\\n1,2,1,5,3,2000,Tanguar_Haor\\r\\n1,2,1,5,3,2000,Tanguar_Haor\\r\\n12,1,3,5,6,5500,Khagrachari\\r\\n9,2,2,4,8,8000,Bandarban\\r\\n10,4,3,4,5,5000,Sajek\\r\\n1,2,1,5,3,2000,Tanguar_Haor\\r\\n2,4,1,3,9,6000,Kuakata\\r\\n12,1,3,5,6,5500,Khagrachari\\r\\n1,2,2,4,6,7500,Saint_Martin\\r\\n2,4,2,4,2,6500,Sundarban\\r\\n9,2,2,4,8,8000,Bandarban\\r\\n1,2,1,5,3,2000,Tanguar_Haor\\r\\n12,5,1,5,2,7000,Sajek\\r\\n1,1,2,4,4,3000,Sitakunda\\r\\n4,1,4,5,3,3000,Sylhet\\r\\n1,2,2,4,6,7500,Saint_Martin\\r\\n1,2,1,5,3,2000,Tanguar_Haor\\r\\n1,1,2,4,4,3000,Sitakunda\\r\\n12,1,3,5,6,5500,Khagrachari\\r\\n9,2,2,4,8,8000,Bandarban\\r\\n6,2,4,5,8,5000,Cox's_Bazar\\r\\n1,2,2,4,6,7500,Saint_Martin\\r\\n1,2,1,5,3,2000,Tanguar_Haor\\r\\n1,2,4,3,2,4500,Sylhet\\r\\n12,1,3,5,6,5500,Khagrachari\\r\\n11,4,3,4,4,7500,Sajek\\r\\n10,2,3,5,9,12000,Cox's_Bazar\\r\\n1,1,2,4,4,3000,Sitakunda\\r\\n12,2,2,4,8,10000,Bandarban\\r\\n1,2,2,4,4,5000,Kuakata\\r\\n9,2,2,4,8,8000,Bandarban\\r\\n12,1,3,5,6,5500,Khagrachari\\r\\n1,2,2,5,3,7500,Cox's_Bazar\\r\\n10,3,2,5,2,8000,Saint_Martin\\r\\n8,2,4,3,8,8000,Sajek\\r\\n1,2,2,4,6,7500,Saint_Martin\\r\\n11,1,2,3,2,3000,Tanguar_Haor\\r\\n1,1,2,4,4,3000,Sitakunda\\r\\n9,2,2,4,8,8000,Bandarban\\r\\n1,1,2,4,2,7000,Bandarban\\r\\n12,1,3,5,6,5500,Khagrachari\\r\\n12,3,3,4,4,6500,Sylhet\\r\\n9,2,2,4,8,8000,Bandarban\\r\\n11,1,2,3,2,3000,Tanguar_Haor\\r\\n12,1,3,5,6,5500,Khagrachari\\r\\n10,3,2,5,2,8000,Saint_Martin\\r\\n11,4,2,5,2,7500,Kuakata\\r\\n1,1,2,4,4,3000,Sitakunda\\r\\n12,1,3,5,6,5500,Khagrachari\\r\\n11,1,2,3,2,3000,Tanguar_Haor\\r\\n9,3,3,5,4,9000,Cox's_Bazar\\r\\n9,2,5,4,8,6500,Sundarban\\r\\n11,1,2,3,2,3000,Tanguar_Haor\\r\\n11,2,5,4,8,6000,Sitakunda\\r\\n8,2,3,3,6,6200,Rangamati\\r\\n12,1,3,5,6,5500,Khagrachari\\r\\n7,2,2,3,4,9000,Sajek\\r\\n2,2,3,4,10,7000,Bandarban\\r\\n1,1,2,4,4,3000,Sitakunda\\r\\n10,3,2,5,2,8000,Saint_Martin\\r\\n12,2,2,5,2,14000,Sajek\\r\\n11,1,2,3,2,3000,Tanguar_Haor\\r\\n12,1,3,5,6,5500,Khagrachari\\r\\n1,1,2,4,4,3000,Sitakunda\\r\\n12,2,2,3,12,3500,Sylhet\\r\\n12,4,2,5,6,4000,Kuakata\\r\\n11,1,2,3,2,3000,Tanguar_Haor\\r\\n1,3,5,5,3,8000,Cox's_Bazar\\r\\n12,1,3,5,6,5500,Khagrachari\\r\\n11,1,2,3,2,3000,Tanguar_Haor\\r\\n11,2,5,4,8,6000,Sitakunda\\r\\n9,2,2,4,8,8000,Bandarban\\r\\n10,2,3,4,8,6000,Rangamati\\r\\n1,2,2,4,6,7500,Saint_Martin\\r\\n12,1,3,5,6,5500,Khagrachari\\r\\n8,2,3,5,4,4000,Sylhet\\r\\n11,1,2,3,2,3000,Tanguar_Haor\\r\\n11,2,2,4,6,7000,Rangamati\\r\\n11,2,5,4,8,6000,Sitakunda\\r\\n2,2,3,4,10,7000,Bandarban\\r\\n11,1,3,5,4,3000,Sylhet\\r\\n2,2,6,5,13,6000,Rangamati\\r\\n11,2,5,4,8,6000,Sitakunda\\r\\n12,1,3,5,6,5500,Khagrachari\\r\\n11,1,2,3,2,3000,Tanguar_Haor\\r\\n1,1,2,5,5,6000,Khagrachari\\r\\n9,2,2,4,8,8000,Bandarban\\r\\n10,3,2,5,2,8000,Saint_Martin\\r\\n2,2,6,5,13,6000,Rangamati\\r\\n10,2,4,5,10,5000,Sajek\\r\\n1,2,2,4,5,10000,Cox's_Bazar\\r\\n11,1,2,3,2,3000,Tanguar_Haor\\r\\n2,1,1,4,3,7000,Sajek\\r\\n2,2,6,5,13,6000,Rangamati\\r\\n11,1,2,3,2,3000,Tanguar_Haor\\r\\n9,2,2,4,8,8000,Bandarban\\r\\n4,2,3,4,5,8000,Cox's_Bazar\\r\\n2,2,6,5,13,6000,Rangamati\\r\\n6,2,3,5,3,5500,Sylhet\\r\\n1,2,2,4,6,7500,Saint_Martin\\r\\n4,1,2,5,7,12000,Cox's_Bazar\\r\\n6,2,1,5,5,8000,Sylhet\\r\\n2,2,3,4,10,7000,Bandarban\\r\\n2,2,6,5,13,6000,Rangamati\\r\\n1,1,2,5,5,6000,Khagrachari\\r\\n3,4,6,4,6,5000,Kuakata\\r\\n11,2,4,2,4,7000,Sitakunda\\r\\n11,1,2,3,2,3000,Tanguar_Haor\\r\\n2,2,6,5,13,6000,Rangamati\\r\\n9,2,2,4,8,8000,Bandarban\\r\\n11,2,2,4,5,4000,Sylhet\\r\\n1,2,2,4,6,7500,Saint_Martin\\r\\n12,1,3,5,6,5500,Khagrachari\\r\\n4,1,3,5,6,2500,Sitakunda\\r\\n2,2,6,5,13,6000,Rangamati\\r\\n11,2,5,5,4,2500,Sitakunda\\r\\n9,2,2,4,8,8000,Bandarban\\r\\n3,2,3,4,5,5000,Kuakata\\r\\n2,2,6,5,13,6000,Rangamati\\r\\n12,1,3,5,6,5500,Khagrachari\\r\\n1,1,2,5,5,6000,Khagrachari\\r\\n10,3,2,5,2,8000,Saint_Martin\\r\\n9,2,2,4,8,8000,Bandarban\\r\\n2,2,3,4,13,6000,Rangamati\\r\\n2,2,3,5,12,6500,Rangamati\\r\\n2,2,3,4,10,7000,Bandarban\\r\\n1,4,1,5,6,5500,Kuakata\\r\\n1,2,2,4,6,7500,Saint_Martin\\r\\n2,2,2,4,6,5000,Kuakata\\r\\n1,1,2,5,5,6000,Khagrachari\\r\\n11,2,2,4,5,8500,Bandarban\\r\\n11,2,5,4,3,15000,Cox's_Bazar\\r\\n2,1,1,5,3,5000,Sundarban\\r\\n2,1,2,2,5,6000,Sundarban\\r\\n1,2,2,4,6,7500,Saint_Martin\\r\\n11,5,2,4,7,5000,Kuakata\\r\\n1,2,1,1,9,10000,Cox's_Bazar\\r\\n2,2,2,1,3,9500,Cox's_Bazar\\r\\n1,4,2,2,4,6000,Kuakata\\r\\n1,1,1,1,6,7500,Sajek\\r\\n1,1,2,5,5,6000,Khagrachari\\r\\n2,2,1,1,3,8000,Sajek\\r\\n10,3,2,5,2,8000,Saint_Martin\\r\\n1,2,2,2,2,5500,Sylhet\\r\\n1,5,2,5,5,5000,Sylhet\\r\\n2,3,3,4,6,10000,Bandarban\\r\\n6,2,6,2,6,2000,Sitakunda\\r\\n3,2,1,4,4,5000,Khagrachari\\r\\n3,2,2,3,3,11000,Sajek\\r\\n3,4,2,2,4,4500,Sylhet\\r\\n1,5,6,4,2,2500,Sitakunda\\r\\n12,2,1,4,5,8500,Cox's_Bazar\\r\\n1,1,2,5,5,6000,Khagrachari\\r\\n1,2,2,4,6,7500,Saint_Martin\\r\\n12,1,2,4,5,5800,Sylhet\\r\\n11,1,2,3,2,3000,Tanguar_Haor\\r\\n7,2,3,3,6,3500,Tanguar_Haor\\r\\n6,2,6,2,6,2000,Sitakunda\\r\\n11,2,2,4,5,6000,Bandarban\\r\\n7,2,3,5,4,3500,Sylhet\\r\\n6,2,3,3,4,2000,Tanguar_Haor\\r\\n3,2,1,4,4,5000,Khagrachari\\r\\n2,2,4,3,5,4000,Sylhet\\r\\n2,2,5,4,7,6000,Sajek\\r\\n1,2,2,4,6,7500,Saint_Martin\\r\\n1,5,6,4,2,2500,Sitakunda\\r\\n1,1,4,4,6,8000,Sajek\\r\\n1,2,2,4,5,9000,Cox's_Bazar\\r\\n12,1,4,5,8,8000,Cox's_Bazar\\r\\n11,1,3,5,6,5000,Sundarban\\r\\n10,4,5,5,9,6500,Kuakata\\r\\n1,2,2,3,8,10000,Cox's_Bazar\\r\\n6,2,6,2,6,2000,Sitakunda\\r\\n1,2,2,3,8,8000,Cox's_Bazar\\r\\n10,3,2,5,2,8000,Saint_Martin\\r\\n1,2,2,3,8,9500,Cox's_Bazar\\r\\n3,2,1,4,4,5000,Khagrachari\\r\\n1,5,6,4,2,2500,Sitakunda\\r\\n1,2,2,3,8,10000,Cox's_Bazar\\r\\n1,2,2,3,8,6500,Cox's_Bazar\\r\\n3,2,1,4,4,5000,Khagrachari\\r\\n1,2,2,4,6,7500,Saint_Martin\\r\\n1,2,3,5,6,8500,Cox's_Bazar\\r\\n6,2,6,2,6,2000,Sitakunda\\r\\n12,2,2,4,5,7000,Sajek\\r\\n2,2,5,5,17,5000,Sundarban\\r\\n10,3,2,5,2,8000,Saint_Martin\\r\\n1,2,5,4,8,5600,Bandarban\\r\\n1,5,6,4,2,2500,Sitakunda\\r\\n3,2,1,4,4,5000,Khagrachari\\r\\n12,2,2,4,6,5500,Bandarban\\r\\n11,2,2,4,20,5000,Kuakata\\r\\n1,2,2,4,10,6000,Sajek\\r\\n12,2,2,3,15,3000,Tanguar_Haor\\r\\n1,2,5,4,8,5600,Bandarban\\r\\n1,2,2,4,8,3000,Tanguar_Haor\\r\\n12,1,2,5,10,5500,Sylhet\\r\\n1,5,3,5,2,2000,Tanguar_Haor\\r\\n12,2,2,4,6,5500,Bandarban\\r\\n3,2,1,4,4,5000,Khagrachari\\r\\n2,5,6,4,6,3500,Sylhet\\r\\n12,2,2,4,6,5500,Bandarban\\r\\n3,2,1,4,4,5000,Khagrachari\\r\\n1,5,5,3,12,2200,Tanguar_Haor\\r\\n1,2,3,3,8,3500,Sylhet\\r\\n1,2,5,3,16,2000,Tanguar_Haor\\r\\n3,2,1,4,4,5000,Khagrachari\\r\\n12,2,2,4,6,5500,Bandarban\\r\\n1,5,3,1,7,4500,Sylhet\\r\\n2,2,3,4,8,8000,Cox's_Bazar\\r\\n2,4,2,5,22,5500,Sundarban\\r\\n12,1,2,4,5,5000,Sylhet\\r\\n12,1,2,4,5,5000,Sylhet\\r\\n9,1,1,5,5,2000,Sitakunda\\r\\n1,2,1,3,4,12500,Cox's_Bazar\\r\\n3,2,1,4,4,5000,Khagrachari\\r\\n2,2,3,5,6,6500,Bandarban\\r\\n11,4,1,5,6,5000,Kuakata\\r\\n3,2,1,4,4,5000,Khagrachari\\r\\n2,2,3,4,13,7000,Bandarban\\r\\n3,2,1,4,4,5000,Khagrachari\\r\\n10,2,1,4,4,6000,Sajek\\r\\n1,2,2,5,5,6500,Saint_Martin\\r\\n2,2,5,5,4,7000,Saint_Martin\\r\\n12,2,1,5,4,9000,Cox's_Bazar\\r\\n2,5,5,5,2,5000,Cox's_Bazar\\r\\n1,2,2,4,5,4000,Sylhet\\r\\n2,1,3,5,6,7000,Sajek\\r\\n2,2,1,4,18,900,Tanguar_Haor\\r\\n2,2,1,4,17,850,Tanguar_Haor\\r\\n3,2,1,4,4,5000,Khagrachari\\r\\n3,2,1,4,4,5000,Khagrachari\\r\\n1,1,2,3,8,4500,Sylhet\\r\\n2,5,4,3,5,3500,Sitakunda\\r\\n1,2,4,5,3,2220,Sitakunda\\r\\n2,2,3,4,5,4600,Bandarban\\r\\n1,1,4,5,6,2700,Sylhet\\r\\n12,5,5,5,5,2200,Tanguar_Haor\\r\\n11,1,2,5,7,2400,Sundarban\\r\\n1,4,4,5,4,3200,Kuakata\\r\\n3,2,1,4,4,5000,Khagrachari\\r\\n12,4,3,5,5,4500,Kuakata\\r\\n11,1,3,4,4,6000,Sajek\\r\\n3,2,1,4,4,5000,Khagrachari\\r\\n12,2,1,2,8,6000,Sajek\\r\\n11,4,5,1,1,7000,Kuakata\\r\\n3,2,1,4,4,5000,Khagrachari\\r\\n7,2,1,5,10,9000,Bandarban\\r\\n3,2,3,3,3,8500,Saint_Martin\\r\\n8,1,5,4,4,4000,Sylhet\\r\\n9,5,2,3,2,6500,Sajek\\r\\n1,4,1,5,6,6000,Saint_Martin\\r\\n11,2,1,4,7,8000,Bandarban\\r\\n1,2,3,5,3,6000,Sylhet\\r\\n2,1,4,5,3,5000,Sylhet\\r\\n3,2,1,4,4,5000,Khagrachari\\r\\n3,4,4,5,3,9000,Kuakata\\r\\n1,4,1,5,6,6000,Saint_Martin\\r\\n2,1,4,4,6,5000,Bandarban\\r\\n1,3,1,4,4,14000,Cox's_Bazar\\r\\n9,4,2,5,7,2500,Tanguar_Haor\\r\\n3,2,1,4,4,5000,Khagrachari\\r\\n12,3,8,5,10,8500,Cox's_Bazar\\r\\n3,5,4,5,3,4000,Sitakunda\\r\\n1,4,1,5,6,6000,Saint_Martin\\r\\n6,5,10,5,2,3800,Sylhet\\r\\n2,2,3,4,8,6000,Sajek\\r\\n9,1,2,4,5,4500,Sylhet\\r\\n1,2,3,5,6,8000,Cox's_Bazar\\r\\n10,4,2,4,6,5000,Kuakata\\r\\n11,2,2,4,8,7000,Bandarban\\r\\n1,4,1,5,6,6000,Saint_Martin\\r\\n9,1,3,4,5,4000,Sylhet\\r\\n1,1,3,4,8,3000,Sitakunda\\r\\n3,2,1,4,4,5000,Khagrachari\\r\\n9,4,2,5,6,5000,Kuakata\\r\\n1,4,1,5,6,6000,Saint_Martin\\r\\n2,3,2,5,5,6500,Sylhet\\r\\n1,2,4,4,8,6500,Bandarban\\r\\n1,4,1,5,6,6000,Saint_Martin\\r\\n11,2,3,5,6,6000,Sajek\\r\\n11,2,2,5,5,5500,Bandarban\\r\\n3,2,1,4,4,5000,Khagrachari\\r\\n11,4,1,3,8,5500,Sundarban\\r\\n11,1,3,4,6,7000,Sylhet\\r\\n11,2,3,4,7,7000,Cox's_Bazar\\r\\n11,2,2,4,5,5500,Sajek\\r\\n1,5,2,5,6,8000,Cox's_Bazar\\r\\n6,1,2,4,12,4500,Sundarban\\r\\n3,2,1,4,4,5000,Khagrachari\\r\\n11,2,4,4,5,4500,Sylhet\\r\\n12,4,3,5,6,5000,Kuakata\\r\\n1,2,4,5,6,6500,Sajek\\r\\n10,2,1,5,9,4000,Khagrachari\\r\\n11,2,1,4,9,5500,Sajek\\r\\n9,4,4,4,8,7500,Kuakata\\r\\n3,4,2,5,5,7000,Saint_Martin\\r\\n10,2,1,5,9,4000,Khagrachari\\r\\n11,4,5,4,5,8000,Saint_Martin\\r\\n6,1,2,4,12,4500,Sundarban\\r\\n10,2,1,5,9,4000,Khagrachari\\r\\n2,2,1,4,3,9000,Cox's_Bazar\\r\\n2,2,1,4,3,12000,Cox's_Bazar\\r\\n2,2,2,3,4,2200,Tanguar_Haor\\r\\n1,2,3,4,12,7000,Sajek\\r\\n1,2,1,5,4,4500,Sylhet\\r\\n10,2,1,5,9,4000,Khagrachari\\r\\n11,4,1,3,8,5500,Sundarban\\r\\n2,2,1,3,6,2000,Tanguar_Haor\\r\\n10,2,1,5,9,4000,Khagrachari\\r\\n2,5,2,3,5,4500,Tanguar_Haor\\r\\n2,2,4,1,5,2000,Sylhet\\r\\n10,2,1,5,9,4000,Khagrachari\\r\\n3,2,2,3,4,7000,Sajek\\r\\n11,5,5,5,6,9000,Bandarban\\r\\n11,4,1,3,8,5500,Sundarban\\r\\n3,2,4,5,5,6000,Kuakata\\r\\n11,2,1,4,8,6200,Sajek\\r\\n3,2,2,5,5,4500,Sylhet\\r\\n3,2,1,4,4,5000,Khagrachari\\r\\n6,5,2,4,8,5500,Sylhet\\r\\n2,4,1,5,5,6500,Saint_Martin\\r\\n11,4,1,3,8,5500,Sundarban\\r\\n11,4,2,5,4,4500,Kuakata\\r\\n10,2,1,5,9,4000,Khagrachari\\r\\n11,1,3,4,4,6000,Sylhet\\r\\n11,4,3,4,6,5000,Kuakata\\r\\n11,4,1,3,8,5500,Sundarban\\r\\n4,5,4,4,8,5500,Sylhet\\r\\n11,2,2,5,8,6000,Sajek\\r\\n10,2,1,5,9,4000,Khagrachari\\r\\n4,5,1,4,8,5500,Sylhet\\r\\n11,4,2,3,5,4500,Kuakata\\r\\n11,2,3,4,6,4200,Sylhet\\r\\n2,2,4,5,13,7000,Bandarban\\r\\n6,1,2,4,12,4500,Sundarban\\r\\n2,4,2,5,5,5000,Kuakata\\r\\n10,2,1,5,9,4000,Khagrachari\\r\\n11,2,2,5,8,8000,Sajek\\r\\n1,5,3,5,25,6000,Sajek\\r\\n2,4,1,4,6,7000,Saint_Martin\\r\\n1,3,2,5,6,12000,Cox's_Bazar\\r\\n2,2,2,5,5,4500,Sylhet\\r\\n11,4,1,3,8,5500,Sundarban\\r\\n3,4,2,4,17,8000,Saint_Martin\\r\\n11,2,1,4,4,7000,Sajek\\r\\n11,4,2,5,6,5200,Kuakata\\r\\n2,2,2,4,4,8000,Cox's_Bazar\\r\\n10,1,1,5,8,5000,Sylhet\\r\\n3,4,2,4,17,8000,Saint_Martin\\r\\n11,2,1,5,9,7200,Sajek\\r\\n10,5,3,5,4,8000,Bandarban\\r\\n6,1,2,4,12,4500,Sundarban\\r\\n11,2,1,4,6,5500,Khagrachari\\r\\n3,4,2,4,17,8000,Saint_Martin\\r\\n2,2,2,3,6,8000,Cox's_Bazar\\r\\n10,5,3,5,4,8000,Bandarban\\r\\n11,2,2,5,5,6700,Sajek\\r\\n11,4,1,1,6,8500,Kuakata\\r\\n10,2,1,5,6,6300,Cox's_Bazar\\r\\n12,1,1,5,7,10000,Sylhet\\r\\n10,5,3,5,4,8000,Bandarban\\r\\n3,2,2,4,6,5000,Rangamati\\r\\n6,1,2,4,12,4500,Sundarban\\r\\n3,4,2,4,17,8000,Saint_Martin\\r\\n8,2,3,5,6,6000,Khagrachari\\r\\n10,5,3,5,4,8000,Bandarban\\r\\n10,2,1,4,2,6000,Sylhet\\r\\n12,1,1,4,14,6000,Sylhet\\r\\n12,2,1,4,4,7000,Cox's_Bazar\\r\\n2,2,3,3,8,6500,Sajek\\r\\n3,4,2,4,17,8000,Saint_Martin\\r\\n6,1,2,4,12,4500,Sundarban\\r\\n10,5,3,5,4,8000,Bandarban\\r\\n2,2,2,4,12,5500,Saint_Martin\\r\\n1,2,3,4,6,7000,Cox's_Bazar\\r\\n1,2,5,5,3,6000,Khagrachari\\r\\n11,2,2,3,14,7000,Cox's_Bazar\\r\\n5,2,2,4,7,7000,Bandarban\\r\\n1,1,1,4,7,6000,Sylhet\\r\\n6,1,2,4,12,4500,Sundarban\\r\\n1,2,1,5,4,5000,Sajek\\r\\n1,2,2,5,4,4000,Sylhet\\r\\n10,5,3,5,4,8000,Bandarban\\r\\n3,5,1,4,6,8000,Cox's_Bazar\\r\\n3,2,3,5,6,9000,Rangamati\\r\\n3,2,2,3,5,4500,Sylhet\\r\\n10,5,3,5,4,8000,Bandarban\\r\\n6,4,2,4,10,5000,Kuakata\\r\\n3,2,2,4,3,8000,Sajek\\r\\n12,4,1,4,9,5500,Kuakata\\r\\n8,2,3,5,6,6000,Khagrachari\\r\\n3,4,4,5,4,9000,Sundarban\\r\\n5,2,2,4,7,7000,Bandarban\\r\\n8,2,3,5,2,7500,Khagrachari\\r\\n5,2,2,5,5,3000,Sitakunda\\r\\n12,1,5,5,5,6500,Sundarban\\r\\n3,2,3,4,4,3000,Sitakunda\\r\\n10,5,3,5,4,8000,Bandarban\\r\\n1,2,4,5,18,2500,Tanguar_Haor\\r\\n3,4,2,4,7,7500,Kuakata\\r\\n3,2,1,3,10,2500,Tanguar_Haor\\r\\n12,1,5,5,5,6500,Sundarban\\r\\n5,2,2,4,7,7000,Bandarban\\r\\n1,1,3,4,6,6000,Sylhet\\r\\n12,2,2,5,50,5500,Cox's_Bazar\\r\\n8,2,3,5,6,6000,Khagrachari\\r\\n12,1,5,5,5,6500,Sundarban\\r\\n10,5,3,5,4,8000,Bandarban\\r\\n2,2,1,5,13,10000,Saint_Martin\\r\\n2,2,2,5,12,6000,Saint_Martin\\r\\n3,2,1,3,10,5000,Sylhet\\r\\n12,1,5,5,5,6500,Sundarban\\r\\n1,2,4,4,7,6500,Rangamati\\r\\n5,2,2,4,7,7000,Bandarban\\r\\n1,1,1,3,7,2000,Sylhet\\r\\n9,1,1,5,3,5500,Sylhet\\r\\n12,1,5,5,5,6500,Sundarban\\r\\n1,2,2,4,5,8000,Saint_Martin\\r\\n10,5,3,5,4,8000,Bandarban\\r\\n1,5,3,5,1,10000,Cox's_Bazar\\r\\n2,2,3,5,8,10500,Saint_Martin\\r\\n12,1,5,5,5,6500,Sundarban\\r\\n1,1,2,1,4,6000,Sajek\\r\\n7,2,1,5,2,4000,Sylhet\\r\\n9,1,1,4,9,3500,Sylhet\\r\\n5,2,2,4,7,7000,Bandarban\\r\\n12,1,5,5,5,6500,Sundarban\\r\\n1,1,3,5,5,6000,Sajek\\r\\n8,2,3,5,6,6000,Khagrachari\\r\\n1,4,2,1,10,1500,Tanguar_Haor\\r\\n12,1,5,5,5,6500,Sundarban\\r\\n6,2,4,5,8,5000,Sylhet\\r\\n10,4,4,4,3,6500,Kuakata\\r\\n1,2,2,4,7,7000,Saint_Martin\\r\\n12,1,5,5,5,6500,Sundarban\\r\\n11,2,1,4,6,7500,Sajek\\r\\n10,2,3,3,20,3000,Rangamati\\r\\n2,2,1,4,5,5500,Bandarban\\r\\n1,4,2,1,10,1500,Tanguar_Haor\\r\\n4,2,1,4,7,5000,Rangamati\\r\\n3,2,1,4,6,4500,Saint_Martin\\r\\n1,2,1,4,8,5500,Cox's_Bazar\\r\\n1,4,2,4,15,8000,Sundarban\\r\\n12,2,1,5,6,4800,Kuakata\\r\\n6,3,2,4,4,12000,Cox's_Bazar\\r\\n3,5,2,3,2,10000,Cox's_Bazar\\r\\n3,2,3,5,5,5500,Sylhet\\r\\n4,2,4,4,1,3000,Sylhet\\r\\n1,4,2,1,10,1500,Tanguar_Haor\\r\\n4,2,1,4,12,8000,Bandarban\\r\\n4,2,3,5,3,5000,Kuakata\\r\\n1,2,3,5,8,12000,Cox's_Bazar\\r\\n12,1,5,5,5,6500,Sundarban\\r\\n5,5,15,4,4,2000,Tanguar_Haor\\r\\n2,5,12,5,12,6500,Kuakata\\r\\n4,2,2,4,1,2000,Tanguar_Haor\\r\\n1,4,2,1,10,1500,Tanguar_Haor\\r\\n2,2,5,5,6,6500,Rangamati\\r\\n4,2,1,1,3,3000,Sitakunda\\r\\n4,4,2,4,5,2000,Tanguar_Haor\\r\\n1,4,2,4,15,8000,Sundarban\\r\\n7,2,1,4,18,3100,Tanguar_Haor\\r\\n2,2,3,4,6,6000,Bandarban\\r\\n1,1,2,4,5,8000,Sajek\\r\\n9,2,2,4,4,3500,Sylhet\\r\\n12,1,5,5,5,6500,Sundarban\\r\\n1,1,3,3,2,2500,Tanguar_Haor\\r\\n11,4,1,4,1,7000,Kuakata\\r\\n2,2,2,4,3,4000,Cox's_Bazar\\r\\n2,4,2,5,3,7000,Kuakata\\r\\n1,4,1,5,4,12000,Saint_Martin\\r\\n12,1,5,5,5,6500,Sundarban\\r\\n6,2,2,5,4,8000,Khagrachari\\r\\n9,2,3,5,2,9000,Rangamati\\r\\n7,2,5,5,8,4500,Sylhet\\r\\n1,4,2,1,10,1500,Tanguar_Haor\\r\\n9,2,4,5,6,9000,Sajek\\r\\n10,2,2,5,2,8000,Cox's_Bazar\\r\\n12,1,5,5,5,6500,Sundarban\\r\\n1,4,2,1,10,1500,Tanguar_Haor\\r\\n3,2,3,3,3,7500,Khagrachari\\r\\n1,4,2,1,10,1500,Tanguar_Haor\\r\\n1,2,2,4,8,6000,Sajek\\r\\n3,2,2,5,4,8500,Sajek\\r\\n2,2,3,2,9,8500,Cox's_Bazar\\r\\n1,4,2,1,10,1500,Tanguar_Haor\\r\\n12,1,5,5,5,6500,Sundarban\\r\\n1,4,2,1,10,1500,Tanguar_Haor\\r\\n2,2,3,4,80,4500,Sajek\\r\\n2,2,3,5,4,9000,Sajek\\r\\n1,4,2,1,10,1500,Tanguar_Haor\\r\\n11,2,2,4,7,5000,Kuakata\\r\\n1,2,2,4,5,4500,Saint_Martin\\r\\n1,4,2,1,10,1500,Tanguar_Haor\\r\\n3,2,2,3,3,4000,Sylhet\\r\\n12,1,5,5,5,6500,Sundarban\\r\\n1,2,2,4,5,5000,Saint_Martin\\r\\n5,2,1,5,3,7000,Bandarban\\r\\n6,2,6,2,4,2000,Tanguar_Haor\\r\\n2,2,2,5,2,4500,Sajek\\r\\n11,2,1,5,4,4000,Sylhet\\r\\n6,2,6,2,4,2000,Tanguar_Haor\\r\\n1,2,2,4,5,4500,Saint_Martin\\r\\n11,2,1,5,4,4000,Sylhet\\r\\n5,2,1,5,3,7000,Bandarban\\r\\n6,2,6,2,4,2000,Tanguar_Haor\\r\\n10,2,1,5,4,10000,Cox's_Bazar\\r\\n6,2,6,2,4,2000,Tanguar_Haor\\r\\n1,4,2,4,15,8000,Sundarban\\r\\n1,2,2,4,5,5000,Saint_Martin\\r\\n3,2,1,5,8,15000,Cox's_Bazar\\r\\n3,2,1,4,10,8000,Bandarban\\r\\n1,4,2,4,15,8000,Sundarban\\r\\n1,2,1,4,10,6000,Rangamati\\r\\n3,2,2,5,2,12000,Cox's_Bazar\\r\\n5,2,4,4,3,2000,Tanguar_Haor\\r\\n5,2,1,5,3,7000,Bandarban\\r\\n1,2,2,4,5,5000,Saint_Martin\\r\\n1,4,2,4,15,8000,Sundarban\\r\\n4,2,5,5,20,5000,Sylhet\\r\\n5,2,3,5,5,2500,Sitakunda\\r\\n10,1,2,3,4,5000,Kuakata\\r\\n3,2,1,4,10,8000,Bandarban\\r\\n7,5,1,4,3,2000,Tanguar_Haor\\r\\n1,2,2,4,5,5000,Saint_Martin\\r\\n11,2,1,4,5,6000,Cox's_Bazar\\r\\n1,4,2,4,15,8000,Sundarban\\r\\n9,5,3,5,5,8000,Khagrachari\\r\\n4,2,1,4,5,5000,Rangamati\\r\\n3,2,1,4,10,8000,Bandarban\\r\\n1,4,2,4,15,8000,Sundarban\\r\\n10,2,1,4,7,5500,Tanguar_Haor\\r\\n1,2,2,4,5,4500,Saint_Martin\\r\\n3,2,1,4,10,8000,Bandarban\\r\\n1,2,5,5,2,5000,Sitakunda\\r\\n1,4,2,4,15,8000,Sundarban\\r\\n1,2,2,4,5,5000,Saint_Martin\\r\\n5,2,1,5,3,7000,Bandarban\\r\\n5,2,1,3,4,5000,Cox's_Bazar\\r\\n2,1,2,3,6,2500,Sitakunda\\r\\n3,4,3,5,4,6000,Sundarban\\r\\n1,1,2,4,4,8000,Cox's_Bazar\\r\\n3,2,1,4,10,8000,Bandarban\\r\\n3,2,5,5,4,10000,Sylhet\\r\\n1,2,2,4,5,4500,Saint_Martin\\r\\n4,2,1,4,5,5000,Rangamati\\r\\n1,2,2,5,2,4000,Kuakata\\r\\n8,2,1,4,12,6000,Sajek\\r\\n5,2,1,5,3,7000,Bandarban\\r\\n1,2,2,4,5,5000,Saint_Martin\\r\\n5,1,1,5,10,2500,Tanguar_Haor\\r\\n11,2,1,4,10,7000,Cox's_Bazar\\r\\n3,2,2,5,14,4500,Sylhet\\r\\n3,2,1,4,10,8000,Bandarban\\r\\n4,2,2,4,10,2200,Sylhet\\r\\n2,2,1,4,10,6500,Rangamati\\r\\n1,2,2,4,5,4500,Saint_Martin\\r\\n4,2,2,4,8,5000,Sylhet\\r\\n4,2,2,4,5,5000,Sajek\\r\\n2,1,3,5,5,10000,Cox's_Bazar\\r\\n5,2,2,5,6,10000,Sajek\\r\\n6,2,2,5,7,7500,Cox's_Bazar\\r\\n8,2,3,5,16,5000,Sajek\\r\\n4,2,1,4,5,5000,Rangamati\\r\\n1,2,2,4,5,5000,Saint_Martin\\r\\n1,2,2,4,5,5000,Saint_Martin\\r\\n2,2,3,5,8,13000,Cox's_Bazar\\r\\n2,2,2,5,3,7000,Sylhet\\r\\n2,2,1,4,10,6500,Rangamati\\r\\n1,4,3,5,2,6000,Kuakata\\r\\n3,2,2,4,8,2200,Sitakunda\\r\\n3,2,1,5,12,6000,Bandarban\\r\\n3,2,2,4,14,8000,Bandarban\\r\\n3,2,3,4,5,5500,Kuakata\\r\\n1,2,2,4,5,5000,Saint_Martin\\r\\n7,2,1,4,7,3000,Cox's_Bazar\\r\\n2,3,1,5,7,7000,Cox's_Bazar\\r\\n12,1,1,5,10,7000,Sylhet\\r\\n4,2,1,4,5,5000,Rangamati\\r\\n1,3,2,3,2,10000,Cox's_Bazar\\r\\n2,2,1,4,10,6500,Rangamati\\r\\n4,2,4,3,10,9000,Cox's_Bazar\\r\\n3,4,2,4,6,6000,Sundarban\\r\\n10,4,3,5,6,5000,Kuakata\\r\\n3,2,2,5,4,2500,Sylhet\\r\\n2,2,3,4,3,3000,Sitakunda\\r\\n6,2,1,4,2,4000,Sitakunda\\r\\n2,2,2,4,3,3000,Sitakunda\\r\\n2,2,1,4,10,6500,Rangamati\\r\\n3,2,1,5,9,8500,Cox's_Bazar\\r\\n9,2,2,5,5,5500,Bandarban\\r\\n1,2,2,4,5,5000,Saint_Martin\\r\\n11,4,2,4,8,5500,Kuakata\\r\\n2,2,3,5,4,9000,Sajek\\r\\n1,4,2,5,6,6500,Kuakata\\r\\n2,2,3,4,10,6000,Sajek\\r\\n5,2,2,3,8,12000,Cox's_Bazar\\r\\n8,4,2,4,6,2500,Tanguar_Haor\\r\\n4,2,1,4,5,5000,Rangamati\\r\\n1,2,3,5,10,9000,Cox's_Bazar\\r\\n11,2,3,4,12,7000,Sajek\\r\\n6,1,4,5,11,2500,Tanguar_Haor\\r\\n12,2,3,5,4,9500,Sajek\\r\\n1,4,2,5,8,8000,Kuakata\\r\\n1,2,3,5,6,7000,Saint_Martin\\r\\n2,2,3,4,4,4500,Sylhet\\r\\n2,1,2,5,8,6500,Sylhet\\r\\n3,2,3,3,3,7500,Khagrachari\\r\\n1,4,3,4,15,4500,Kuakata\\r\\n2,4,2,4,10,7000,Sajek\\r\\n11,2,2,5,15,6500,Sajek\\r\\n2,4,3,5,5,7500,Kuakata\\r\\n9,5,3,5,2,8000,Khagrachari\\r\\n5,1,4,5,15,2500,Tanguar_Haor\\r\\n2,2,2,5,12,9500,Cox's_Bazar\\r\\n4,2,2,4,9,7000,Rangamati\\r\\n5,4,2,5,7,1800,Tanguar_Haor\\r\\n4,2,2,5,6,5000,Sylhet\\r\\n3,2,3,3,3,7500,Khagrachari\\r\\n3,1,2,4,5,4500,Sylhet\\r\\n4,2,2,4,9,7000,Rangamati\\r\\n4,2,2,4,7,6000,Saint_Martin\\r\\n2,1,2,5,11,5000,Sitakunda\\r\\n4,4,3,4,5,5000,Kuakata\\r\\n9,4,2,5,6,7000,Sundarban\\r\\n1,2,2,5,8,4500,Sylhet\\r\\n11,2,1,5,12,7000,Sajek\\r\\n1,2,3,5,5,10000,Saint_Martin\\r\\n5,2,2,4,6,6000,Sylhet\\r\\n6,1,1,3,4,4000,Sylhet\\r\\n4,2,2,4,9,7000,Rangamati\\r\\n12,2,2,3,11,7500,Sajek\\r\\n1,5,3,4,16,6000,Khagrachari\\r\\n9,2,1,5,5,5500,Sylhet\\r\\n9,1,3,5,6,5000,Sundarban\\r\\n10,4,4,4,7,4200,Kuakata\\r\\n4,2,2,4,9,7000,Rangamati\\r\\n2,4,2,4,9,8000,Kuakata\\r\\n6,4,3,5,18,1500,Tanguar_Haor\\r\\n10,2,3,5,13,7000,Sajek\\r\\n5,1,2,4,5,4800,Sitakunda\\r\\n4,2,2,5,2,12500,Cox's_Bazar\\r\\n4,2,2,4,9,7000,Rangamati\\r\\n5,4,3,4,7,8000,Kuakata\\r\\n6,4,2,5,11,6500,Kuakata\\r\\n3,1,3,5,6,5200,Sylhet\\r\\n5,1,3,5,5,2800,Tanguar_Haor\\r\\n11,2,3,5,14,7000,Sajek\\r\\n5,2,3,5,7,6000,Sylhet\\r\\n3,2,5,5,6,8000,Rangamati\\r\\n3,4,2,5,13,9500,Kuakata\\r\\n2,2,2,4,8,8500,Saint_Martin\\r\\n12,1,4,5,9,5200,Kuakata\\r\\n11,2,2,5,5,12500,Cox's_Bazar\\r\\n9,5,3,5,2,8000,Khagrachari\\r\\n3,2,5,5,6,8000,Rangamati\\r\\n3,4,2,4,12,2500,Sitakunda\\r\\n8,2,2,4,6,6000,Sylhet\\r\\n3,2,3,5,10,9500,Saint_Martin\\r\\n2,5,4,3,5,4000,Sitakunda\\r\\n10,1,4,5,7,5500,Sylhet\\r\\n5,2,3,5,4,13500,Cox's_Bazar\\r\\n3,2,3,5,10,9500,Saint_Martin\\r\\n3,2,5,5,6,8000,Rangamati\\r\\n5,2,3,5,4,7000,Cox's_Bazar\\r\\n6,1,5,5,8,2600,Tanguar_Haor\\r\\n8,1,3,4,16,5000,Sylhet\\r\\n3,2,5,5,6,8000,Rangamati\\r\\n1,4,3,4,18,9000,Kuakata\\r\\n3,2,2,4,5,10500,Cox's_Bazar\\r\\n3,4,2,4,12,2500,Sitakunda\\r\\n3,2,5,5,6,8000,Rangamati\\r\\n11,2,4,5,15,6500,Sajek\\r\\n3,2,3,5,10,9500,Saint_Martin\\r\\n3,2,2,4,5,5000,Kuakata\\r\\n3,2,5,5,6,8000,Rangamati\\r\\n3,2,2,4,5,5000,Kuakata\\r\\n1,5,3,4,16,6000,Khagrachari\\r\\n2,5,4,3,5,4000,Sitakunda\\r\\n3,2,2,4,5,5000,Kuakata\\r\\n3,2,2,4,5,5000,Kuakata\\r\\n3,2,5,5,6,8000,Rangamati\\r\\n3,2,3,4,7,6000,Bandarban\\r\\n3,2,2,4,5,5000,Kuakata\\r\\n3,2,3,5,10,9500,Saint_Martin\\r\\n10,2,1,5,10,6000,Sajek\\r\\n10,2,2,5,10,6000,Sajek\\r\\n3,4,2,4,12,2500,Sitakunda\\r\\n10,2,3,4,10,6000,Sajek\\r\\n10,2,4,4,10,6000,Sajek\\r\\n3,2,3,4,7,6000,Bandarban\\r\\n1,5,3,4,16,6000,Khagrachari\\r\\n3,2,5,5,6,8000,Rangamati\\r\\n9,4,2,5,4,8000,Saint_Martin\\r\\n10,2,3,4,10,6000,Sajek\\r\\n10,2,6,5,10,6000,Sajek\\r\\n2,5,4,3,5,4000,Sitakunda\\r\\n3,2,3,4,7,6000,Bandarban\\r\\n10,2,1,4,10,6000,Sajek\\r\\n10,2,2,5,10,6000,Sajek\\r\\n9,4,2,5,4,8000,Saint_Martin\\r\\n3,2,5,5,6,8000,Rangamati\\r\\n10,2,2,5,10,6000,Sajek\\r\\n10,2,1,5,10,6000,Sajek\\r\\n3,2,3,4,7,6000,Bandarban\\r\\n4,2,1,4,5,7000,Cox's_Bazar\\r\\n4,2,2,4,5,8000,Cox's_Bazar\\r\\n3,4,2,4,12,2500,Sitakunda\\r\\n9,4,2,5,4,8000,Saint_Martin\\r\\n3,2,5,5,6,8000,Rangamati\\r\\n4,2,2,4,5,7000,Cox's_Bazar\\r\\n3,2,3,4,7,6000,Bandarban\\r\\n1,5,3,4,16,6000,Khagrachari\\r\\n4,2,1,5,5,6000,Cox's_Bazar\\r\\n4,2,2,4,5,5000,Cox's_Bazar\\r\\n2,5,4,3,5,4000,Sitakunda\\r\\n9,4,2,5,4,8000,Saint_Martin\\r\\n1,2,5,5,4,8500,Cox's_Bazar\\r\\n3,2,3,4,7,6000,Bandarban\\r\\n9,4,1,4,6,3000,Kuakata\\r\\n12,2,2,5,10,3000,Sundarban\\r\\n9,4,2,5,4,8000,Saint_Martin\\r\\n3,4,2,4,12,2500,Sitakunda\\r\\n4,2,4,5,4,8000,Khagrachari\\r\\n3,2,3,5,8,8500,Bandarban\\r\\n2,1,5,5,5,12000,Cox's_Bazar\\r\\n3,4,5,5,6,7500,Saint_Martin\\r\\n3,2,3,4,7,6000,Bandarban\\r\\n3,2,4,5,4,8500,Sajek\\r\\n2,5,4,3,5,4000,Sitakunda\\r\\n3,2,5,5,7,5500,Kuakata\\r\\n7,1,1,5,12,2400,Tanguar_Haor\\r\\n7,1,3,4,12,2600,Tanguar_Haor\\r\\n3,2,5,5,4,8000,Cox's_Bazar\\r\\n1,5,3,4,16,6000,Khagrachari\\r\\n6,2,2,5,13,9800,Bandarban\\r\\n3,4,2,4,12,2500,Sitakunda\\r\\n3,4,7,5,5,8500,Saint_Martin\\r\\n3,3,6,5,6,9000,Cox's_Bazar\\r\\n3,2,2,5,10,7500,Bandarban\\r\\n3,2,5,5,7,5500,Kuakata\\r\\n4,2,5,5,4,6000,Rangamati\\r\\n4,2,5,5,4,6000,Rangamati\\r\\n3,4,2,4,12,2500,Sitakunda\\r\\n1,5,3,4,16,6000,Khagrachari\\r\\n1,1,2,3,8,5000,Sylhet\\r\\n2,5,4,3,5,4000,Sitakunda\\r\\n1,2,4,5,3,2500,Sitakunda\\r\\n2,2,3,4,5,5000,Bandarban\\r\\n1,1,4,5,6,3000,Sylhet\\r\\n4,2,5,5,4,6000,Rangamati\\r\\n12,5,5,5,5,2500,Tanguar_Haor\\r\\n11,1,2,5,7,2500,Sundarban\\r\\n1,4,4,5,4,3500,Kuakata\\r\\n12,4,3,5,5,4500,Kuakata\\r\\n11,1,3,4,4,6000,Sajek\\r\\n12,2,1,2,8,6000,Sajek\\r\\n11,1,2,5,7,2500,Sundarban\\r\\n1,5,3,4,16,6000,Khagrachari\\r\\n11,4,5,1,1,7000,Kuakata\\r\\n7,2,1,5,10,9000,Bandarban\\r\\n4,2,5,5,4,6000,Rangamati\\r\\n3,2,3,3,4,8000,Saint_Martin\\r\\n8,1,5,4,4,4000,Sylhet\\r\\n9,5,2,3,3,7000,Sajek\\r\\n11,1,2,5,7,2500,Sundarban\\r\\n11,2,1,4,5,8000,Bandarban\\r\\n1,2,3,5,4,6000,Sylhet\\r\\n2,1,4,5,4,5000,Sylhet\\r\\n11,1,2,5,7,2500,Sundarban\\r\\n3,4,4,5,5,9000,Kuakata\\r\\n1,5,3,4,16,6000,Khagrachari\\r\\n2,1,4,4,4,5000,Bandarban\\r\\n4,2,5,5,4,6000,Rangamati\\r\\n11,4,1,3,3,5500,Sundarban\\r\\n1,3,1,4,5,13000,Cox's_Bazar\\r\\n9,4,2,5,6,2500,Tanguar_Haor\\r\\n12,3,8,5,10,8500,Cox's_Bazar\\r\\n3,5,4,5,4,4000,Sitakunda\\r\\n2,2,2,3,4,2500,Tanguar_Haor\\r\\n6,5,10,5,8,5000,Sylhet\\r\\n11,1,2,5,7,2500,Sundarban\\r\\n2,2,3,4,8,6000,Sajek\\r\\n4,2,5,5,4,6000,Rangamati\\r\\n9,1,3,4,6,4500,Sylhet\\r\\n1,2,4,5,5,8000,Cox's_Bazar\\r\\n10,4,3,4,8,5000,Kuakata\\r\\n9,4,2,5,6,2500,Tanguar_Haor\\r\\n11,4,1,3,3,5500,Sundarban\\r\\n11,2,4,4,6,7000,Bandarban\\r\\n10,2,1,5,10,4000,Khagrachari\\r\\n9,1,5,4,4,4000,Sylhet\\r\\n1,1,4,4,7,3000,Sitakunda\\r\\n9,4,2,5,5,5000,Kuakata\\r\\n11,4,1,3,3,5500,Sundarban\\r\\n4,2,5,5,4,6000,Rangamati\\r\\n9,4,2,5,6,2500,Tanguar_Haor\\r\\n1,1,4,4,7,3000,Sitakunda\\r\\n2,3,3,5,6,6500,Sylhet\\r\\n1,2,3,4,6,6500,Bandarban\\r\\n1,4,2,5,8,6000,Saint_Martin\\r\\n10,2,1,5,10,4000,Khagrachari\\r\\n11,2,1,5,2,6000,Sajek\\r\\n3,4,2,5,9,7500,Saint_Martin\\r\\n9,4,2,5,6,2500,Tanguar_Haor\\r\\n11,2,2,5,3,6000,Bandarban\\r\\n1,1,4,4,7,3000,Sitakunda\\r\\n11,4,1,3,3,5500,Sundarban\\r\\n11,1,5,4,4,7000,Sylhet\\r\\n11,2,3,4,1,7000,Cox's_Bazar\\r\\n4,2,5,5,4,6000,Rangamati\\r\\n11,2,2,5,3,6000,Bandarban\\r\\n1,4,2,5,8,6000,Saint_Martin\\r\\n1,1,4,4,7,3000,Sitakunda\\r\\n2,2,2,3,4,2500,Tanguar_Haor\\r\\n6,1,2,4,14,4500,Sundarban\\r\\n11,5,5,5,3,9000,Bandarban\\r\\n11,2,3,4,5,5500,Sajek\\r\\n3,4,2,5,9,7500,Saint_Martin\\r\\n1,5,2,5,6,8000,Cox's_Bazar\\r\\n2,2,2,3,4,2500,Tanguar_Haor\\r\\n1,1,4,4,7,3000,Sitakunda\\r\\n11,5,5,5,3,9000,Bandarban\\r\\n11,2,4,4,8,4500,Sylhet\\r\\n12,4,3,5,2,5000,Kuakata\\r\\n11,4,1,3,3,5500,Sundarban\\r\\n1,2,4,5,4,6500,Sajek\\r\\n1,4,2,5,8,6000,Saint_Martin\\r\\n10,2,1,5,10,4000,Khagrachari\\r\\n11,2,4,4,6,5000,Sajek\\r\\n1,4,2,5,8,6000,Saint_Martin\\r\\n11,2,2,5,3,6000,Bandarban\\r\\n2,2,2,3,4,2500,Tanguar_Haor\\r\\n9,4,3,4,8,7500,Kuakata\\r\\n1,1,4,4,7,3000,Sitakunda\\r\\n4,2,5,5,4,6000,Rangamati\\r\\n3,4,2,5,9,7500,Saint_Martin\\r\\n11,4,4,4,1,8000,Saint_Martin\\r\\n2,2,2,3,4,2500,Tanguar_Haor\\r\\n4,2,5,5,4,6000,Rangamati\\r\\n11,2,2,5,3,6000,Bandarban\\r\\n6,1,2,4,14,4500,Sundarban\\r\\n2,2,1,4,3,9000,Cox's_Bazar\\r\\n2,2,1,4,5,12000,Cox's_Bazar\\r\\n2,2,2,3,4,2500,Tanguar_Haor\\r\\n11,5,5,5,3,9000,Bandarban\\r\\n4,2,5,5,4,6000,Rangamati\\r\\n1,1,4,4,7,3000,Sitakunda\\r\\n11,4,1,3,3,5500,Sundarban\\r\\n1,2,4,4,1,7000,Sajek\\r\\n4,2,5,5,4,6000,Rangamati\\r\\n1,2,1,5,6,4500,Sylhet\\r\\n10,2,1,5,10,4000,Khagrachari\\r\\n11,4,1,3,3,5500,Sundarban\\r\\n11,5,5,5,3,9000,Bandarban\\r\\n4,2,5,5,4,6000,Rangamati\\r\\n2,2,1,3,9,2000,Tanguar_Haor\\r\\n4,2,5,5,4,6000,Rangamati\\r\\n11,4,1,3,3,5500,Sundarban\\r\\n2,5,2,3,9,4500,Tanguar_Haor\\r\\n1,1,4,4,7,3000,Sitakunda\\r\\n2,2,3,1,9,2000,Sylhet\\r\\n11,5,5,5,3,9000,Bandarban\\r\\n3,2,2,3,9,7000,Sajek\\r\\n11,5,5,5,3,9000,Bandarban\\r\\n1,2,4,5,20,2500,Tanguar_Haor\\r\\n6,1,2,4,14,4500,Sundarban\\r\\n3,2,4,5,3,6000,Kuakata\\r\\n1,1,4,4,7,3000,Sitakunda\\r\\n11,2,1,4,3,6200,Sajek\\r\\n4,2,5,5,4,6000,Rangamati\\r\\n3,2,2,5,3,4500,Sylhet\\r\\n11,4,1,3,3,5500,Sundarban\\r\\n4,2,5,5,4,6000,Rangamati\\r\\n3,2,1,4,5,5000,Khagrachari\\r\\n6,5,2,4,5,5500,Sylhet\\r\\n4,2,5,5,4,6000,Rangamati\\r\\n1,2,4,5,20,2500,Tanguar_Haor\\r\\n2,4,1,5,5,6500,Saint_Martin\\r\\n11,4,1,3,3,5500,Sundarban\\r\\n4,2,5,5,4,6000,Rangamati\\r\\n11,4,2,5,5,4500,Kuakata\\r\\n11,1,3,4,5,6000,Sylhet\\r\\n2,4,1,5,5,6500,Saint_Martin\\r\\n4,2,5,5,4,6000,Rangamati\\r\\n11,4,3,4,5,5000,Kuakata\\r\\n10,2,1,5,10,4000,Khagrachari\\r\\n11,4,1,3,3,5500,Sundarban\\r\\n2,2,1,3,9,2000,Tanguar_Haor\\r\\n4,2,5,5,4,6000,Rangamati\\r\\n4,2,5,5,4,6000,Rangamati\\r\\n4,5,4,4,5,5500,Sylhet\\r\\n11,2,2,5,5,6000,Sajek\\r\\n2,4,1,4,5,7000,Saint_Martin\\r\\n4,5,1,4,5,5500,Sylhet\\r\\n11,4,1,3,3,5500,Sundarban\\r\\n11,4,2,3,5,4500,Kuakata\\r\\n2,2,1,3,9,2000,Tanguar_Haor\\r\\n11,2,3,4,5,4200,Sylhet\\r\\n2,4,1,4,5,7000,Saint_Martin\\r\\n2,2,4,5,11,7000,Bandarban\\r\\n4,2,5,5,4,6000,Rangamati\\r\\n2,2,1,3,9,2000,Tanguar_Haor\\r\\n2,4,2,5,10,5000,Kuakata\\r\\n10,2,1,5,10,4000,Khagrachari\\r\\n2,4,1,4,5,7000,Saint_Martin\\r\\n6,1,2,4,14,4500,Sundarban\\r\\n11,2,2,5,10,8000,Sajek\\r\\n2,2,1,3,9,2000,Tanguar_Haor\\r\\n1,5,3,5,25,6000,Sajek\\r\\n2,4,1,4,5,7000,Saint_Martin\\r\\n1,3,2,5,5,12000,Cox's_Bazar\\r\\n2,2,2,5,6,4500,Sylhet\\r\\n11,2,1,4,9,7000,Sajek\\r\\n6,1,2,4,14,4500,Sundarban\\r\\n11,4,2,5,9,5200,Kuakata\\r\\n2,2,1,3,9,2000,Tanguar_Haor\\r\\n2,2,2,4,9,8000,Cox's_Bazar\\r\\n10,1,1,5,9,5000,Sylhet\\r\\n11,2,1,5,10,7200,Sajek\\r\\n10,5,3,5,3,8000,Bandarban\\r\\n6,1,2,4,14,4500,Sundarban\\r\\n11,2,1,4,6,5500,Khagrachari\\r\\n1,2,4,5,20,2500,Tanguar_Haor\\r\\n2,2,2,3,9,8000,Cox's_Bazar\\r\\n11,2,2,5,9,6700,Sajek\\r\\n11,4,1,1,8,8500,Kuakata\\r\\n8,2,3,5,3,7500,Khagrachari\\r\\n11,4,1,3,3,5500,Sundarban\\r\\n2,2,1,3,9,2000,Tanguar_Haor\\r\\n10,2,1,5,8,6300,Cox's_Bazar\\r\\n12,1,1,5,8,10000,Sylhet\\r\\n3,2,2,4,8,5000,Rangamati\\r\\n10,2,1,4,8,6000,Sylhet\\r\\n6,1,2,4,14,4500,Sundarban\\r\\n12,1,1,4,14,6000,Sylhet\\r\\n1,2,4,5,20,2500,Tanguar_Haor\\r\\n8,2,3,5,3,7500,Khagrachari\\r\\n3,2,2,4,8,5000,Rangamati\\r\\n12,2,1,4,14,7000,Cox's_Bazar\\r\\n11,4,1,3,3,5500,Sundarban\\r\\n2,2,3,3,14,6500,Sajek\\r\\n3,4,2,4,18,8000,Saint_Martin\\r\\n2,2,2,4,15,5500,Saint_Martin\\r\\n1,2,3,4,15,7000,Cox's_Bazar\\r\\n2,2,1,3,9,2000,Tanguar_Haor\\r\\n1,2,5,5,5,6000,Khagrachari\\r\\n11,4,1,3,3,5500,Sundarban\\r\\n11,2,2,3,15,7000,Cox's_Bazar\\r\\n3,2,2,4,8,5000,Rangamati\\r\\n1,1,1,4,14,6000,Sylhet\\r\\n1,2,4,5,20,2500,Tanguar_Haor\\r\\n6,1,2,4,14,4500,Sundarban\\r\\n8,2,3,5,3,7500,Khagrachari\\r\\n1,2,1,5,15,5000,Sajek\\r\\n1,2,2,5,12,4000,Sylhet\\r\\n3,2,2,4,8,5000,Rangamati\\r\\n2,2,1,3,9,2000,Tanguar_Haor\\r\\n3,5,1,4,11,8000,Cox's_Bazar\\r\\n3,2,3,5,2,9000,Rangamati\\r\\n3,2,2,3,3,4500,Sylhet\\r\\n6,4,2,4,11,5000,Kuakata\\r\\n3,2,2,4,6,8000,Sajek\\r\\n2,2,1,3,9,2000,Tanguar_Haor\\r\\n2,2,1,4,10,6500,Rangamati\\r\\n12,4,1,4,6,5500,Kuakata\\r\\n3,4,4,5,6,9000,Sundarban\\r\\n8,2,3,5,3,7500,Khagrachari\\r\\n5,2,2,5,5,3000,Sitakunda\\r\\n2,2,1,4,10,6500,Rangamati\\r\\n3,2,3,4,6,3000,Sitakunda\\r\\n1,2,4,5,20,2500,Tanguar_Haor\\r\\n3,4,2,4,7,6500,Kuakata\\r\\n2,1,2,3,5,2800,Sitakunda\\r\\n3,4,3,5,4,7000,Sundarban\\r\\n3,1,2,4,8,9500,Cox's_Bazar\\r\\n5,2,5,5,7,7400,Sylhet\\r\\n2,2,1,4,10,6500,Rangamati\\r\\n3,4,3,5,4,7000,Sundarban\\r\\n8,2,2,4,8,3000,Sitakunda\\r\\n3,2,2,5,12,5500,Kuakata\\r\\n9,2,1,4,11,6500,Sajek\\r\\n6,1,1,5,12,2800,Tanguar_Haor\\r\\n13,2,1,4,8,7500,Cox's_Bazar\\r\\n8,2,2,4,8,3000,Sitakunda\\r\\n4,2,2,5,12,5000,Sylhet\\r\\n6,1,4,5,11,2500,Tanguar_Haor\\r\\n3,4,3,5,4,7000,Sundarban\\r\\n2,2,1,4,10,6500,Rangamati\\r\\n8,2,2,4,8,3000,Sitakunda\\r\\n3,2,1,4,8,7500,Bandarban\\r\\n4,2,2,4,10,4600,Sylhet\\r\\n5,2,2,4,6,5000,Sylhet\\r\\n8,2,2,4,8,3000,Sitakunda\\r\\n6,2,2,4,7,6500,Sajek\\r\\n2,2,1,4,10,6500,Rangamati\\r\\n1,2,4,5,20,2500,Tanguar_Haor\\r\\n3,4,3,5,4,7000,Sundarban\\r\\n3,1,3,5,6,12000,Cox's_Bazar\\r\\n6,2,2,5,7,8000,Sajek\\r\\n8,2,2,4,8,3000,Sitakunda\\r\\n3,2,2,5,10,6500,Cox's_Bazar\\r\\n2,2,1,4,10,6500,Rangamati\\r\\n9,2,3,5,12,6500,Sajek\\r\\n6,1,4,5,11,2500,Tanguar_Haor\\r\\n1,2,3,5,8,11500,Cox's_Bazar\\r\\n8,2,2,4,8,3000,Sitakunda\\r\\n3,4,3,5,4,7000,Sundarban\\r\\n4,2,2,5,5,7000,Sylhet\\r\\n11,4,3,5,8,6000,Kuakata\\r\\n8,2,2,4,8,3000,Sitakunda\\r\\n3,4,3,5,4,7000,Sundarban\\r\\n11,2,1,5,12,6500,Bandarban\\r\\n1,2,4,5,20,2500,Tanguar_Haor\\r\\n2,2,1,4,10,6500,Rangamati\\r\\n10,2,2,4,8,7000,Bandarban\\r\\n10,2,3,4,7,6000,Kuakata\\r\\n3,4,3,5,4,7000,Sundarban\\r\\n4,2,1,4,9,6500,Cox's_Bazar\\r\\n2,3,1,5,7,7000,Cox's_Bazar\\r\\n12,1,1,5,10,7000,Sylhet\\r\\n6,1,4,5,11,2500,Tanguar_Haor\\r\\n2,2,1,4,10,6500,Rangamati\\r\\n1,3,2,3,7,10000,Cox's_Bazar\\r\\n3,2,4,3,10,9000,Cox's_Bazar\\r\\n3,4,2,4,6,6000,Sundarban\\r\\n9,5,3,5,2,8000,Khagrachari\\r\\n10,4,3,5,6,5000,Kuakata\\r\\n1,2,4,5,20,2500,Tanguar_Haor\\r\\n9,1,3,5,6,5000,Sundarban\\r\\n3,2,2,5,4,2500,Sylhet\\r\\n2,2,3,4,3,3000,Sitakunda\\r\\n6,2,1,4,2,4000,Sitakunda\\r\\n2,2,2,4,3,3000,Sitakunda\\r\\n2,2,1,4,10,6500,Rangamati\\r\\n1,2,4,5,20,2500,Tanguar_Haor\\r\\n3,2,1,5,9,8500,Cox's_Bazar\\r\\n3,4,2,4,6,6000,Sundarban\\r\\n2,1,2,5,11,5000,Sitakunda\\r\\n9,2,2,5,5,5500,Bandarban\\r\\n1,2,2,4,5,5000,Saint_Martin\\r\\n6,1,4,5,11,2500,Tanguar_Haor\\r\\n11,4,2,4,8,5500,Kuakata\\r\\n4,2,2,4,9,7000,Rangamati\\r\\n9,1,3,5,6,5000,Sundarban\\r\\n2,2,3,4,3,3000,Sitakunda\\r\\n2,2,3,5,4,9000,Sajek\\r\\n9,5,3,5,2,8000,Khagrachari\\r\\n1,4,2,5,6,6500,Kuakata\\r\\n1,2,4,5,20,2500,Tanguar_Haor\\r\\n2,2,3,4,10,6000,Sajek\\r\\n3,4,2,4,6,6000,Sundarban\\r\\n2,1,2,5,11,5000,Sitakunda\\r\\n5,2,2,3,8,12000,Cox's_Bazar\\r\\n4,2,2,4,9,7000,Rangamati\\r\\n8,4,2,4,6,2500,Tanguar_Haor\\r\\n1,2,3,5,10,9000,Cox's_Bazar\\r\\n2,2,3,4,3,3000,Sitakunda\\r\\n1,2,4,5,20,2500,Tanguar_Haor\\r\\n3,4,2,4,6,6000,Sundarban\\r\\n11,2,3,4,12,7000,Sajek\\r\\n6,1,4,5,11,2500,Tanguar_Haor\\r\\n12,2,3,5,4,9500,Sajek\\r\\n2,2,3,4,3,3000,Sitakunda\\r\\n4,2,2,4,9,7000,Rangamati\\r\\n3,4,2,4,6,6000,Sundarban\\r\\n1,4,2,5,8,8000,Kuakata\\r\\n1,2,3,5,6,7000,Saint_Martin\\r\\n2,2,3,4,4,4500,Sylhet\\r\\n2,1,2,5,8,6500,Sylhet\\r\\n2,1,2,5,11,5000,Sitakunda\\r\\n9,1,3,5,6,5000,Sundarban\\r\\n1,4,3,4,15,4500,Kuakata\\r\\n9,5,3,5,2,8000,Khagrachari\\r\\n2,4,2,4,10,7000,Sajek\\r\\n4,2,2,4,9,7000,Rangamati\\r\\n2,2,3,4,3,3000,Sitakunda\\r\\n11,2,2,5,15,6500,Sajek\\r\\n2,4,3,5,5,7500,Kuakata\\r\\n9,1,3,5,6,5000,Sundarban\\r\\n4,2,2,4,9,7000,Rangamati\\r\\n5,1,4,5,15,2500,Tanguar_Haor\\r\\n2,2,2,5,12,9500,Cox's_Bazar\\r\\n2,1,2,5,11,5000,Sitakunda\\r\\n4,2,2,4,9,7000,Rangamati\\r\\n9,1,3,5,6,5000,Sundarban\\r\\n5,4,2,5,7,1800,Tanguar_Haor\\r\\n2,2,3,4,3,3000,Sitakunda\\r\\n4,2,2,5,6,5000,Sylhet\\r\\n3,1,2,4,5,4500,Sylhet\\r\\n4,2,2,4,7,6000,Saint_Martin\\r\\n9,1,3,5,6,5000,Sundarban\\r\\n3,2,5,5,6,8000,Rangamati\\r\\n2,1,2,5,11,5000,Sitakunda\\r\\n4,2,3,5,6,10000,Saint_Martin\\r\\n4,4,3,4,5,5000,Kuakata\\r\\n9,1,3,5,6,5000,Sundarban\\r\\n9,4,2,5,6,5500,Sundarban\\r\\n9,5,3,5,2,8000,Khagrachari\\r\\n1,2,2,5,8,500,Sylhet\\r\\n11,2,1,5,12,7000,Sajek\\r\\n4,2,3,5,6,10000,Saint_Martin\\r\\n3,2,5,5,6,8000,Rangamati\\r\\n5,2,2,4,6,6000,Sylhet\\r\\n6,1,1,3,4,4500,Sylhet\\r\\n12,2,2,3,11,7500,Sajek\\r\\n1,5,3,4,16,6000,Khagrachari\\r\\n4,2,3,5,6,10000,Saint_Martin\\r\\n9,2,1,5,5,5500,Sylhet\\r\\n3,2,5,5,6,8000,Rangamati\\r\\n9,1,3,5,6,5000,Sundarban\\r\\n10,4,4,4,7,4200,Kuakata\\r\\n2,4,2,4,9,8000,Kuakata\\r\\n4,2,3,5,6,10000,Saint_Martin\\r\\n9,5,3,5,2,8000,Khagrachari\\r\\n6,4,3,5,18,1500,Tanguar_Haor\\r\\n10,2,3,5,13,7000,Sajek\\r\\n5,1,2,4,5,4800,Sitakunda\\r\\n4,2,2,5,2,12500,Cox's_Bazar\\r\\n4,2,3,5,6,10000,Saint_Martin\\r\\n5,4,3,4,7,8000,Kuakata\\r\\n3,2,5,5,6,8000,Rangamati\\r\\n6,4,2,5,11,6500,Kuakata\\r\\n3,1,3,5,6,5200,Sylhet\\r\\n5,1,3,5,5,2800,Tanguar_Haor\\r\\n4,2,3,5,6,10000,Saint_Martin\\r\\n11,2,3,5,14,7000,Sajek\\r\\n9,5,3,5,2,8000,Khagrachari\\r\\n5,2,3,5,7,6000,Sylhet\\r\\n3,4,2,5,13,9500,Kuakata\\r\\n2,2,2,4,8,8500,Saint_Martin\\r\\n3,2,5,5,6,8000,Rangamati\\r\\n12,1,4,5,9,5200,Kuakata\\r\\n11,2,2,5,5,12500,Cox's_Bazar\\r\\n9,5,3,5,2,8000,Khagrachari\\r\\n3,4,2,4,12,2500,Sitakunda\\r\\n8,2,2,4,6,6000,Sylhet\\r\\n3,2,3,5,10,9500,Saint_Martin\\r\\n10,1,4,5,7,5500,Sylhet\\r\\n3,2,5,5,6,8000,Rangamati\\r\\n5,2,3,5,4,13500,Cox's_Bazar\\r\\n2,2,2,4,8,8500,Saint_Martin\\r\\n5,2,3,5,4,7000,Cox's_Bazar\\r\\n6,1,5,5,8,2600,Tanguar_Haor\\r\\n8,1,3,4,16,5000,Sylhet\\r\\n3,2,5,5,6,8000,Rangamati\\r\\n3,2,5,5,6,8000,Rangamati\\r\\n2,2,2,4,8,8500,Saint_Martin\\r\\n1,4,3,4,18,9000,Kuakata\\r\\n3,2,2,4,5,10500,Cox's_Bazar\\r\\n11,2,4,5,15,6500,Sajek\\r\\n3,2,2,4,5,5000,Kuakata\\r\\n3,2,2,4,5,5000,Kuakata\\r\\n3,2,2,4,5,5000,Kuakata\\r\\n2,2,2,4,8,8500,Saint_Martin\\r\\n3,2,2,4,5,5000,Kuakata\\r\\n3,2,2,4,5,5000,Kuakata\\r\\n\"}"
            ]
          },
          "metadata": {},
          "execution_count": 2
        }
      ]
    },
    {
      "cell_type": "code",
      "source": [
        "myFile=  pd.read_csv('Tour_Planner7.csv')\n",
        "myFile.head()"
      ],
      "metadata": {
        "colab": {
          "base_uri": "https://localhost:8080/",
          "height": 206
        },
        "id": "SkzSZShwp2xe",
        "outputId": "5bd4c79f-29a2-426a-dcc5-190146194aa2"
      },
      "execution_count": 3,
      "outputs": [
        {
          "output_type": "execute_result",
          "data": {
            "text/plain": [
              "   Travelling_month  transport  count_travel_Times  Personal_rating  \\\n",
              "0                11          2                   3                5   \n",
              "1                11          2                   4                4   \n",
              "2                 1          2                   2                4   \n",
              "3                 1          2                   1                5   \n",
              "4                10          2                   1                5   \n",
              "\n",
              "   total_members  total_cost Tourists_Spot  \n",
              "0              8        9000         Sajek  \n",
              "1              8        3000     Sitakunda  \n",
              "2              6        7500  Saint_Martin  \n",
              "3              3        2000  Tanguar_Haor  \n",
              "4             18        5000         Sajek  "
            ],
            "text/html": [
              "\n",
              "  <div id=\"df-ee761d05-06bb-4f7d-aade-31159e6a2a36\">\n",
              "    <div class=\"colab-df-container\">\n",
              "      <div>\n",
              "<style scoped>\n",
              "    .dataframe tbody tr th:only-of-type {\n",
              "        vertical-align: middle;\n",
              "    }\n",
              "\n",
              "    .dataframe tbody tr th {\n",
              "        vertical-align: top;\n",
              "    }\n",
              "\n",
              "    .dataframe thead th {\n",
              "        text-align: right;\n",
              "    }\n",
              "</style>\n",
              "<table border=\"1\" class=\"dataframe\">\n",
              "  <thead>\n",
              "    <tr style=\"text-align: right;\">\n",
              "      <th></th>\n",
              "      <th>Travelling_month</th>\n",
              "      <th>transport</th>\n",
              "      <th>count_travel_Times</th>\n",
              "      <th>Personal_rating</th>\n",
              "      <th>total_members</th>\n",
              "      <th>total_cost</th>\n",
              "      <th>Tourists_Spot</th>\n",
              "    </tr>\n",
              "  </thead>\n",
              "  <tbody>\n",
              "    <tr>\n",
              "      <th>0</th>\n",
              "      <td>11</td>\n",
              "      <td>2</td>\n",
              "      <td>3</td>\n",
              "      <td>5</td>\n",
              "      <td>8</td>\n",
              "      <td>9000</td>\n",
              "      <td>Sajek</td>\n",
              "    </tr>\n",
              "    <tr>\n",
              "      <th>1</th>\n",
              "      <td>11</td>\n",
              "      <td>2</td>\n",
              "      <td>4</td>\n",
              "      <td>4</td>\n",
              "      <td>8</td>\n",
              "      <td>3000</td>\n",
              "      <td>Sitakunda</td>\n",
              "    </tr>\n",
              "    <tr>\n",
              "      <th>2</th>\n",
              "      <td>1</td>\n",
              "      <td>2</td>\n",
              "      <td>2</td>\n",
              "      <td>4</td>\n",
              "      <td>6</td>\n",
              "      <td>7500</td>\n",
              "      <td>Saint_Martin</td>\n",
              "    </tr>\n",
              "    <tr>\n",
              "      <th>3</th>\n",
              "      <td>1</td>\n",
              "      <td>2</td>\n",
              "      <td>1</td>\n",
              "      <td>5</td>\n",
              "      <td>3</td>\n",
              "      <td>2000</td>\n",
              "      <td>Tanguar_Haor</td>\n",
              "    </tr>\n",
              "    <tr>\n",
              "      <th>4</th>\n",
              "      <td>10</td>\n",
              "      <td>2</td>\n",
              "      <td>1</td>\n",
              "      <td>5</td>\n",
              "      <td>18</td>\n",
              "      <td>5000</td>\n",
              "      <td>Sajek</td>\n",
              "    </tr>\n",
              "  </tbody>\n",
              "</table>\n",
              "</div>\n",
              "      <button class=\"colab-df-convert\" onclick=\"convertToInteractive('df-ee761d05-06bb-4f7d-aade-31159e6a2a36')\"\n",
              "              title=\"Convert this dataframe to an interactive table.\"\n",
              "              style=\"display:none;\">\n",
              "        \n",
              "  <svg xmlns=\"http://www.w3.org/2000/svg\" height=\"24px\"viewBox=\"0 0 24 24\"\n",
              "       width=\"24px\">\n",
              "    <path d=\"M0 0h24v24H0V0z\" fill=\"none\"/>\n",
              "    <path d=\"M18.56 5.44l.94 2.06.94-2.06 2.06-.94-2.06-.94-.94-2.06-.94 2.06-2.06.94zm-11 1L8.5 8.5l.94-2.06 2.06-.94-2.06-.94L8.5 2.5l-.94 2.06-2.06.94zm10 10l.94 2.06.94-2.06 2.06-.94-2.06-.94-.94-2.06-.94 2.06-2.06.94z\"/><path d=\"M17.41 7.96l-1.37-1.37c-.4-.4-.92-.59-1.43-.59-.52 0-1.04.2-1.43.59L10.3 9.45l-7.72 7.72c-.78.78-.78 2.05 0 2.83L4 21.41c.39.39.9.59 1.41.59.51 0 1.02-.2 1.41-.59l7.78-7.78 2.81-2.81c.8-.78.8-2.07 0-2.86zM5.41 20L4 18.59l7.72-7.72 1.47 1.35L5.41 20z\"/>\n",
              "  </svg>\n",
              "      </button>\n",
              "      \n",
              "  <style>\n",
              "    .colab-df-container {\n",
              "      display:flex;\n",
              "      flex-wrap:wrap;\n",
              "      gap: 12px;\n",
              "    }\n",
              "\n",
              "    .colab-df-convert {\n",
              "      background-color: #E8F0FE;\n",
              "      border: none;\n",
              "      border-radius: 50%;\n",
              "      cursor: pointer;\n",
              "      display: none;\n",
              "      fill: #1967D2;\n",
              "      height: 32px;\n",
              "      padding: 0 0 0 0;\n",
              "      width: 32px;\n",
              "    }\n",
              "\n",
              "    .colab-df-convert:hover {\n",
              "      background-color: #E2EBFA;\n",
              "      box-shadow: 0px 1px 2px rgba(60, 64, 67, 0.3), 0px 1px 3px 1px rgba(60, 64, 67, 0.15);\n",
              "      fill: #174EA6;\n",
              "    }\n",
              "\n",
              "    [theme=dark] .colab-df-convert {\n",
              "      background-color: #3B4455;\n",
              "      fill: #D2E3FC;\n",
              "    }\n",
              "\n",
              "    [theme=dark] .colab-df-convert:hover {\n",
              "      background-color: #434B5C;\n",
              "      box-shadow: 0px 1px 3px 1px rgba(0, 0, 0, 0.15);\n",
              "      filter: drop-shadow(0px 1px 2px rgba(0, 0, 0, 0.3));\n",
              "      fill: #FFFFFF;\n",
              "    }\n",
              "  </style>\n",
              "\n",
              "      <script>\n",
              "        const buttonEl =\n",
              "          document.querySelector('#df-ee761d05-06bb-4f7d-aade-31159e6a2a36 button.colab-df-convert');\n",
              "        buttonEl.style.display =\n",
              "          google.colab.kernel.accessAllowed ? 'block' : 'none';\n",
              "\n",
              "        async function convertToInteractive(key) {\n",
              "          const element = document.querySelector('#df-ee761d05-06bb-4f7d-aade-31159e6a2a36');\n",
              "          const dataTable =\n",
              "            await google.colab.kernel.invokeFunction('convertToInteractive',\n",
              "                                                     [key], {});\n",
              "          if (!dataTable) return;\n",
              "\n",
              "          const docLinkHtml = 'Like what you see? Visit the ' +\n",
              "            '<a target=\"_blank\" href=https://colab.research.google.com/notebooks/data_table.ipynb>data table notebook</a>'\n",
              "            + ' to learn more about interactive tables.';\n",
              "          element.innerHTML = '';\n",
              "          dataTable['output_type'] = 'display_data';\n",
              "          await google.colab.output.renderOutput(dataTable, element);\n",
              "          const docLink = document.createElement('div');\n",
              "          docLink.innerHTML = docLinkHtml;\n",
              "          element.appendChild(docLink);\n",
              "        }\n",
              "      </script>\n",
              "    </div>\n",
              "  </div>\n",
              "  "
            ]
          },
          "metadata": {},
          "execution_count": 3
        }
      ]
    },
    {
      "cell_type": "code",
      "source": [
        "print(myFile.shape)"
      ],
      "metadata": {
        "colab": {
          "base_uri": "https://localhost:8080/"
        },
        "id": "qwdwAlHup8nR",
        "outputId": "5a715304-bc3d-468e-919b-e0eafaab2093"
      },
      "execution_count": 4,
      "outputs": [
        {
          "output_type": "stream",
          "name": "stdout",
          "text": [
            "(1238, 7)\n"
          ]
        }
      ]
    },
    {
      "cell_type": "code",
      "source": [
        "myFile['Tourists_Spot'].value_counts()"
      ],
      "metadata": {
        "colab": {
          "base_uri": "https://localhost:8080/"
        },
        "id": "zy2stS0tp_gm",
        "outputId": "60dba716-1b68-470a-9f8a-4ff0fa527144"
      },
      "execution_count": 5,
      "outputs": [
        {
          "output_type": "execute_result",
          "data": {
            "text/plain": [
              "Sylhet          136\n",
              "Tanguar_Haor    126\n",
              "Saint_Martin    121\n",
              "Sajek           115\n",
              "Bandarban       114\n",
              "Cox's_Bazar     114\n",
              "Kuakata         108\n",
              "Khagrachari     102\n",
              "Rangamati       102\n",
              "Sundarban       101\n",
              "Sitakunda        99\n",
              "Name: Tourists_Spot, dtype: int64"
            ]
          },
          "metadata": {},
          "execution_count": 5
        }
      ]
    },
    {
      "cell_type": "code",
      "source": [
        "myFile.groupby([\"Tourists_Spot\"])"
      ],
      "metadata": {
        "colab": {
          "base_uri": "https://localhost:8080/"
        },
        "id": "FYoY6gQSqebM",
        "outputId": "87b91828-cc0b-4f32-d1f4-0f6ad18af321"
      },
      "execution_count": 6,
      "outputs": [
        {
          "output_type": "execute_result",
          "data": {
            "text/plain": [
              "<pandas.core.groupby.generic.DataFrameGroupBy object at 0x7f6abd6124c0>"
            ]
          },
          "metadata": {},
          "execution_count": 6
        }
      ]
    },
    {
      "cell_type": "code",
      "source": [
        "#Grouping data using grouoby\n",
        "myFile.groupby([\"Tourists_Spot\"]).mean()"
      ],
      "metadata": {
        "colab": {
          "base_uri": "https://localhost:8080/",
          "height": 425
        },
        "id": "5sIV204IqlRN",
        "outputId": "4792d787-338d-4f70-81a3-bd7621e4677b"
      },
      "execution_count": 7,
      "outputs": [
        {
          "output_type": "execute_result",
          "data": {
            "text/plain": [
              "               Travelling_month  transport  count_travel_Times  \\\n",
              "Tourists_Spot                                                    \n",
              "Bandarban              6.894737   2.456140            2.429825   \n",
              "Cox's_Bazar            4.385965   2.254386            2.307018   \n",
              "Khagrachari            6.774510   2.294118            2.196078   \n",
              "Kuakata                6.166667   3.435185            2.685185   \n",
              "Rangamati              3.862745   2.000000            3.470588   \n",
              "Saint_Martin           3.016529   2.702479            2.148760   \n",
              "Sajek                  7.313043   2.208696            2.313043   \n",
              "Sitakunda              3.959596   2.222222            3.111111   \n",
              "Sundarban              7.683168   2.485149            2.534653   \n",
              "Sylhet                 5.669118   1.926471            2.602941   \n",
              "Tanguar_Haor           4.190476   2.317460            2.492063   \n",
              "\n",
              "               Personal_rating  total_members   total_cost  \n",
              "Tourists_Spot                                               \n",
              "Bandarban             4.350877       6.859649  7321.052632  \n",
              "Cox's_Bazar           4.254386       6.657895  9035.964912  \n",
              "Khagrachari           4.607843       6.196078  5720.588235  \n",
              "Kuakata               4.240741       6.768519  5773.148148  \n",
              "Rangamati             4.431373       7.392157  6419.607843  \n",
              "Saint_Martin          4.446281       6.446281  7309.917355  \n",
              "Sajek                 4.243478       8.469565  6849.565217  \n",
              "Sitakunda             3.989899       6.202020  3270.909091  \n",
              "Sundarban             4.247525       7.405941  5687.128713  \n",
              "Sylhet                4.286765       6.250000  4983.823529  \n",
              "Tanguar_Haor          3.817460       8.126984  2326.587302  "
            ],
            "text/html": [
              "\n",
              "  <div id=\"df-fedc93f8-1c0b-4ca7-9dd8-b40f0eaac1d9\">\n",
              "    <div class=\"colab-df-container\">\n",
              "      <div>\n",
              "<style scoped>\n",
              "    .dataframe tbody tr th:only-of-type {\n",
              "        vertical-align: middle;\n",
              "    }\n",
              "\n",
              "    .dataframe tbody tr th {\n",
              "        vertical-align: top;\n",
              "    }\n",
              "\n",
              "    .dataframe thead th {\n",
              "        text-align: right;\n",
              "    }\n",
              "</style>\n",
              "<table border=\"1\" class=\"dataframe\">\n",
              "  <thead>\n",
              "    <tr style=\"text-align: right;\">\n",
              "      <th></th>\n",
              "      <th>Travelling_month</th>\n",
              "      <th>transport</th>\n",
              "      <th>count_travel_Times</th>\n",
              "      <th>Personal_rating</th>\n",
              "      <th>total_members</th>\n",
              "      <th>total_cost</th>\n",
              "    </tr>\n",
              "    <tr>\n",
              "      <th>Tourists_Spot</th>\n",
              "      <th></th>\n",
              "      <th></th>\n",
              "      <th></th>\n",
              "      <th></th>\n",
              "      <th></th>\n",
              "      <th></th>\n",
              "    </tr>\n",
              "  </thead>\n",
              "  <tbody>\n",
              "    <tr>\n",
              "      <th>Bandarban</th>\n",
              "      <td>6.894737</td>\n",
              "      <td>2.456140</td>\n",
              "      <td>2.429825</td>\n",
              "      <td>4.350877</td>\n",
              "      <td>6.859649</td>\n",
              "      <td>7321.052632</td>\n",
              "    </tr>\n",
              "    <tr>\n",
              "      <th>Cox's_Bazar</th>\n",
              "      <td>4.385965</td>\n",
              "      <td>2.254386</td>\n",
              "      <td>2.307018</td>\n",
              "      <td>4.254386</td>\n",
              "      <td>6.657895</td>\n",
              "      <td>9035.964912</td>\n",
              "    </tr>\n",
              "    <tr>\n",
              "      <th>Khagrachari</th>\n",
              "      <td>6.774510</td>\n",
              "      <td>2.294118</td>\n",
              "      <td>2.196078</td>\n",
              "      <td>4.607843</td>\n",
              "      <td>6.196078</td>\n",
              "      <td>5720.588235</td>\n",
              "    </tr>\n",
              "    <tr>\n",
              "      <th>Kuakata</th>\n",
              "      <td>6.166667</td>\n",
              "      <td>3.435185</td>\n",
              "      <td>2.685185</td>\n",
              "      <td>4.240741</td>\n",
              "      <td>6.768519</td>\n",
              "      <td>5773.148148</td>\n",
              "    </tr>\n",
              "    <tr>\n",
              "      <th>Rangamati</th>\n",
              "      <td>3.862745</td>\n",
              "      <td>2.000000</td>\n",
              "      <td>3.470588</td>\n",
              "      <td>4.431373</td>\n",
              "      <td>7.392157</td>\n",
              "      <td>6419.607843</td>\n",
              "    </tr>\n",
              "    <tr>\n",
              "      <th>Saint_Martin</th>\n",
              "      <td>3.016529</td>\n",
              "      <td>2.702479</td>\n",
              "      <td>2.148760</td>\n",
              "      <td>4.446281</td>\n",
              "      <td>6.446281</td>\n",
              "      <td>7309.917355</td>\n",
              "    </tr>\n",
              "    <tr>\n",
              "      <th>Sajek</th>\n",
              "      <td>7.313043</td>\n",
              "      <td>2.208696</td>\n",
              "      <td>2.313043</td>\n",
              "      <td>4.243478</td>\n",
              "      <td>8.469565</td>\n",
              "      <td>6849.565217</td>\n",
              "    </tr>\n",
              "    <tr>\n",
              "      <th>Sitakunda</th>\n",
              "      <td>3.959596</td>\n",
              "      <td>2.222222</td>\n",
              "      <td>3.111111</td>\n",
              "      <td>3.989899</td>\n",
              "      <td>6.202020</td>\n",
              "      <td>3270.909091</td>\n",
              "    </tr>\n",
              "    <tr>\n",
              "      <th>Sundarban</th>\n",
              "      <td>7.683168</td>\n",
              "      <td>2.485149</td>\n",
              "      <td>2.534653</td>\n",
              "      <td>4.247525</td>\n",
              "      <td>7.405941</td>\n",
              "      <td>5687.128713</td>\n",
              "    </tr>\n",
              "    <tr>\n",
              "      <th>Sylhet</th>\n",
              "      <td>5.669118</td>\n",
              "      <td>1.926471</td>\n",
              "      <td>2.602941</td>\n",
              "      <td>4.286765</td>\n",
              "      <td>6.250000</td>\n",
              "      <td>4983.823529</td>\n",
              "    </tr>\n",
              "    <tr>\n",
              "      <th>Tanguar_Haor</th>\n",
              "      <td>4.190476</td>\n",
              "      <td>2.317460</td>\n",
              "      <td>2.492063</td>\n",
              "      <td>3.817460</td>\n",
              "      <td>8.126984</td>\n",
              "      <td>2326.587302</td>\n",
              "    </tr>\n",
              "  </tbody>\n",
              "</table>\n",
              "</div>\n",
              "      <button class=\"colab-df-convert\" onclick=\"convertToInteractive('df-fedc93f8-1c0b-4ca7-9dd8-b40f0eaac1d9')\"\n",
              "              title=\"Convert this dataframe to an interactive table.\"\n",
              "              style=\"display:none;\">\n",
              "        \n",
              "  <svg xmlns=\"http://www.w3.org/2000/svg\" height=\"24px\"viewBox=\"0 0 24 24\"\n",
              "       width=\"24px\">\n",
              "    <path d=\"M0 0h24v24H0V0z\" fill=\"none\"/>\n",
              "    <path d=\"M18.56 5.44l.94 2.06.94-2.06 2.06-.94-2.06-.94-.94-2.06-.94 2.06-2.06.94zm-11 1L8.5 8.5l.94-2.06 2.06-.94-2.06-.94L8.5 2.5l-.94 2.06-2.06.94zm10 10l.94 2.06.94-2.06 2.06-.94-2.06-.94-.94-2.06-.94 2.06-2.06.94z\"/><path d=\"M17.41 7.96l-1.37-1.37c-.4-.4-.92-.59-1.43-.59-.52 0-1.04.2-1.43.59L10.3 9.45l-7.72 7.72c-.78.78-.78 2.05 0 2.83L4 21.41c.39.39.9.59 1.41.59.51 0 1.02-.2 1.41-.59l7.78-7.78 2.81-2.81c.8-.78.8-2.07 0-2.86zM5.41 20L4 18.59l7.72-7.72 1.47 1.35L5.41 20z\"/>\n",
              "  </svg>\n",
              "      </button>\n",
              "      \n",
              "  <style>\n",
              "    .colab-df-container {\n",
              "      display:flex;\n",
              "      flex-wrap:wrap;\n",
              "      gap: 12px;\n",
              "    }\n",
              "\n",
              "    .colab-df-convert {\n",
              "      background-color: #E8F0FE;\n",
              "      border: none;\n",
              "      border-radius: 50%;\n",
              "      cursor: pointer;\n",
              "      display: none;\n",
              "      fill: #1967D2;\n",
              "      height: 32px;\n",
              "      padding: 0 0 0 0;\n",
              "      width: 32px;\n",
              "    }\n",
              "\n",
              "    .colab-df-convert:hover {\n",
              "      background-color: #E2EBFA;\n",
              "      box-shadow: 0px 1px 2px rgba(60, 64, 67, 0.3), 0px 1px 3px 1px rgba(60, 64, 67, 0.15);\n",
              "      fill: #174EA6;\n",
              "    }\n",
              "\n",
              "    [theme=dark] .colab-df-convert {\n",
              "      background-color: #3B4455;\n",
              "      fill: #D2E3FC;\n",
              "    }\n",
              "\n",
              "    [theme=dark] .colab-df-convert:hover {\n",
              "      background-color: #434B5C;\n",
              "      box-shadow: 0px 1px 3px 1px rgba(0, 0, 0, 0.15);\n",
              "      filter: drop-shadow(0px 1px 2px rgba(0, 0, 0, 0.3));\n",
              "      fill: #FFFFFF;\n",
              "    }\n",
              "  </style>\n",
              "\n",
              "      <script>\n",
              "        const buttonEl =\n",
              "          document.querySelector('#df-fedc93f8-1c0b-4ca7-9dd8-b40f0eaac1d9 button.colab-df-convert');\n",
              "        buttonEl.style.display =\n",
              "          google.colab.kernel.accessAllowed ? 'block' : 'none';\n",
              "\n",
              "        async function convertToInteractive(key) {\n",
              "          const element = document.querySelector('#df-fedc93f8-1c0b-4ca7-9dd8-b40f0eaac1d9');\n",
              "          const dataTable =\n",
              "            await google.colab.kernel.invokeFunction('convertToInteractive',\n",
              "                                                     [key], {});\n",
              "          if (!dataTable) return;\n",
              "\n",
              "          const docLinkHtml = 'Like what you see? Visit the ' +\n",
              "            '<a target=\"_blank\" href=https://colab.research.google.com/notebooks/data_table.ipynb>data table notebook</a>'\n",
              "            + ' to learn more about interactive tables.';\n",
              "          element.innerHTML = '';\n",
              "          dataTable['output_type'] = 'display_data';\n",
              "          await google.colab.output.renderOutput(dataTable, element);\n",
              "          const docLink = document.createElement('div');\n",
              "          docLink.innerHTML = docLinkHtml;\n",
              "          element.appendChild(docLink);\n",
              "        }\n",
              "      </script>\n",
              "    </div>\n",
              "  </div>\n",
              "  "
            ]
          },
          "metadata": {},
          "execution_count": 7
        }
      ]
    },
    {
      "cell_type": "code",
      "source": [
        "myFile.describe()"
      ],
      "metadata": {
        "colab": {
          "base_uri": "https://localhost:8080/",
          "height": 300
        },
        "id": "-7p_mFtJq2rk",
        "outputId": "af175487-dd6f-4b35-fa44-194ad8b61968"
      },
      "execution_count": 8,
      "outputs": [
        {
          "output_type": "execute_result",
          "data": {
            "text/plain": [
              "       Travelling_month    transport  count_travel_Times  Personal_rating  \\\n",
              "count       1238.000000  1238.000000         1238.000000      1238.000000   \n",
              "mean           5.420032     2.384491            2.557351         4.260905   \n",
              "std            4.016094     1.150369            1.403146         0.857101   \n",
              "min            1.000000     1.000000            1.000000         1.000000   \n",
              "25%            2.000000     2.000000            2.000000         4.000000   \n",
              "50%            4.000000     2.000000            2.000000         4.000000   \n",
              "75%           10.000000     3.000000            3.000000         5.000000   \n",
              "max           13.000000     5.000000           15.000000         5.000000   \n",
              "\n",
              "       total_members    total_cost  \n",
              "count    1238.000000   1238.000000  \n",
              "mean        6.985460   5870.654281  \n",
              "std         4.489252   2318.304159  \n",
              "min         1.000000    500.000000  \n",
              "25%         4.000000   4500.000000  \n",
              "50%         6.000000   6000.000000  \n",
              "75%         8.750000   7500.000000  \n",
              "max        80.000000  15000.000000  "
            ],
            "text/html": [
              "\n",
              "  <div id=\"df-08027c08-9616-4454-8d54-081e85205b2c\">\n",
              "    <div class=\"colab-df-container\">\n",
              "      <div>\n",
              "<style scoped>\n",
              "    .dataframe tbody tr th:only-of-type {\n",
              "        vertical-align: middle;\n",
              "    }\n",
              "\n",
              "    .dataframe tbody tr th {\n",
              "        vertical-align: top;\n",
              "    }\n",
              "\n",
              "    .dataframe thead th {\n",
              "        text-align: right;\n",
              "    }\n",
              "</style>\n",
              "<table border=\"1\" class=\"dataframe\">\n",
              "  <thead>\n",
              "    <tr style=\"text-align: right;\">\n",
              "      <th></th>\n",
              "      <th>Travelling_month</th>\n",
              "      <th>transport</th>\n",
              "      <th>count_travel_Times</th>\n",
              "      <th>Personal_rating</th>\n",
              "      <th>total_members</th>\n",
              "      <th>total_cost</th>\n",
              "    </tr>\n",
              "  </thead>\n",
              "  <tbody>\n",
              "    <tr>\n",
              "      <th>count</th>\n",
              "      <td>1238.000000</td>\n",
              "      <td>1238.000000</td>\n",
              "      <td>1238.000000</td>\n",
              "      <td>1238.000000</td>\n",
              "      <td>1238.000000</td>\n",
              "      <td>1238.000000</td>\n",
              "    </tr>\n",
              "    <tr>\n",
              "      <th>mean</th>\n",
              "      <td>5.420032</td>\n",
              "      <td>2.384491</td>\n",
              "      <td>2.557351</td>\n",
              "      <td>4.260905</td>\n",
              "      <td>6.985460</td>\n",
              "      <td>5870.654281</td>\n",
              "    </tr>\n",
              "    <tr>\n",
              "      <th>std</th>\n",
              "      <td>4.016094</td>\n",
              "      <td>1.150369</td>\n",
              "      <td>1.403146</td>\n",
              "      <td>0.857101</td>\n",
              "      <td>4.489252</td>\n",
              "      <td>2318.304159</td>\n",
              "    </tr>\n",
              "    <tr>\n",
              "      <th>min</th>\n",
              "      <td>1.000000</td>\n",
              "      <td>1.000000</td>\n",
              "      <td>1.000000</td>\n",
              "      <td>1.000000</td>\n",
              "      <td>1.000000</td>\n",
              "      <td>500.000000</td>\n",
              "    </tr>\n",
              "    <tr>\n",
              "      <th>25%</th>\n",
              "      <td>2.000000</td>\n",
              "      <td>2.000000</td>\n",
              "      <td>2.000000</td>\n",
              "      <td>4.000000</td>\n",
              "      <td>4.000000</td>\n",
              "      <td>4500.000000</td>\n",
              "    </tr>\n",
              "    <tr>\n",
              "      <th>50%</th>\n",
              "      <td>4.000000</td>\n",
              "      <td>2.000000</td>\n",
              "      <td>2.000000</td>\n",
              "      <td>4.000000</td>\n",
              "      <td>6.000000</td>\n",
              "      <td>6000.000000</td>\n",
              "    </tr>\n",
              "    <tr>\n",
              "      <th>75%</th>\n",
              "      <td>10.000000</td>\n",
              "      <td>3.000000</td>\n",
              "      <td>3.000000</td>\n",
              "      <td>5.000000</td>\n",
              "      <td>8.750000</td>\n",
              "      <td>7500.000000</td>\n",
              "    </tr>\n",
              "    <tr>\n",
              "      <th>max</th>\n",
              "      <td>13.000000</td>\n",
              "      <td>5.000000</td>\n",
              "      <td>15.000000</td>\n",
              "      <td>5.000000</td>\n",
              "      <td>80.000000</td>\n",
              "      <td>15000.000000</td>\n",
              "    </tr>\n",
              "  </tbody>\n",
              "</table>\n",
              "</div>\n",
              "      <button class=\"colab-df-convert\" onclick=\"convertToInteractive('df-08027c08-9616-4454-8d54-081e85205b2c')\"\n",
              "              title=\"Convert this dataframe to an interactive table.\"\n",
              "              style=\"display:none;\">\n",
              "        \n",
              "  <svg xmlns=\"http://www.w3.org/2000/svg\" height=\"24px\"viewBox=\"0 0 24 24\"\n",
              "       width=\"24px\">\n",
              "    <path d=\"M0 0h24v24H0V0z\" fill=\"none\"/>\n",
              "    <path d=\"M18.56 5.44l.94 2.06.94-2.06 2.06-.94-2.06-.94-.94-2.06-.94 2.06-2.06.94zm-11 1L8.5 8.5l.94-2.06 2.06-.94-2.06-.94L8.5 2.5l-.94 2.06-2.06.94zm10 10l.94 2.06.94-2.06 2.06-.94-2.06-.94-.94-2.06-.94 2.06-2.06.94z\"/><path d=\"M17.41 7.96l-1.37-1.37c-.4-.4-.92-.59-1.43-.59-.52 0-1.04.2-1.43.59L10.3 9.45l-7.72 7.72c-.78.78-.78 2.05 0 2.83L4 21.41c.39.39.9.59 1.41.59.51 0 1.02-.2 1.41-.59l7.78-7.78 2.81-2.81c.8-.78.8-2.07 0-2.86zM5.41 20L4 18.59l7.72-7.72 1.47 1.35L5.41 20z\"/>\n",
              "  </svg>\n",
              "      </button>\n",
              "      \n",
              "  <style>\n",
              "    .colab-df-container {\n",
              "      display:flex;\n",
              "      flex-wrap:wrap;\n",
              "      gap: 12px;\n",
              "    }\n",
              "\n",
              "    .colab-df-convert {\n",
              "      background-color: #E8F0FE;\n",
              "      border: none;\n",
              "      border-radius: 50%;\n",
              "      cursor: pointer;\n",
              "      display: none;\n",
              "      fill: #1967D2;\n",
              "      height: 32px;\n",
              "      padding: 0 0 0 0;\n",
              "      width: 32px;\n",
              "    }\n",
              "\n",
              "    .colab-df-convert:hover {\n",
              "      background-color: #E2EBFA;\n",
              "      box-shadow: 0px 1px 2px rgba(60, 64, 67, 0.3), 0px 1px 3px 1px rgba(60, 64, 67, 0.15);\n",
              "      fill: #174EA6;\n",
              "    }\n",
              "\n",
              "    [theme=dark] .colab-df-convert {\n",
              "      background-color: #3B4455;\n",
              "      fill: #D2E3FC;\n",
              "    }\n",
              "\n",
              "    [theme=dark] .colab-df-convert:hover {\n",
              "      background-color: #434B5C;\n",
              "      box-shadow: 0px 1px 3px 1px rgba(0, 0, 0, 0.15);\n",
              "      filter: drop-shadow(0px 1px 2px rgba(0, 0, 0, 0.3));\n",
              "      fill: #FFFFFF;\n",
              "    }\n",
              "  </style>\n",
              "\n",
              "      <script>\n",
              "        const buttonEl =\n",
              "          document.querySelector('#df-08027c08-9616-4454-8d54-081e85205b2c button.colab-df-convert');\n",
              "        buttonEl.style.display =\n",
              "          google.colab.kernel.accessAllowed ? 'block' : 'none';\n",
              "\n",
              "        async function convertToInteractive(key) {\n",
              "          const element = document.querySelector('#df-08027c08-9616-4454-8d54-081e85205b2c');\n",
              "          const dataTable =\n",
              "            await google.colab.kernel.invokeFunction('convertToInteractive',\n",
              "                                                     [key], {});\n",
              "          if (!dataTable) return;\n",
              "\n",
              "          const docLinkHtml = 'Like what you see? Visit the ' +\n",
              "            '<a target=\"_blank\" href=https://colab.research.google.com/notebooks/data_table.ipynb>data table notebook</a>'\n",
              "            + ' to learn more about interactive tables.';\n",
              "          element.innerHTML = '';\n",
              "          dataTable['output_type'] = 'display_data';\n",
              "          await google.colab.output.renderOutput(dataTable, element);\n",
              "          const docLink = document.createElement('div');\n",
              "          docLink.innerHTML = docLinkHtml;\n",
              "          element.appendChild(docLink);\n",
              "        }\n",
              "      </script>\n",
              "    </div>\n",
              "  </div>\n",
              "  "
            ]
          },
          "metadata": {},
          "execution_count": 8
        }
      ]
    },
    {
      "cell_type": "code",
      "source": [
        "le= LabelEncoder()\n",
        "for column_name in myFile.columns:\n",
        "  if myFile['Tourists_Spot'].dtype == object:\n",
        "            myFile['Tourists_Spot'] = le.fit_transform(myFile['Tourists_Spot'])\n",
        "  else:\n",
        "            pass"
      ],
      "metadata": {
        "id": "K53mbn4LsdBl"
      },
      "execution_count": 9,
      "outputs": []
    },
    {
      "cell_type": "code",
      "source": [
        "myFile.head()"
      ],
      "metadata": {
        "colab": {
          "base_uri": "https://localhost:8080/",
          "height": 206
        },
        "id": "ojmh6xl3su4L",
        "outputId": "d9e60e52-544b-429a-92da-b1190a0cf473"
      },
      "execution_count": 10,
      "outputs": [
        {
          "output_type": "execute_result",
          "data": {
            "text/plain": [
              "   Travelling_month  transport  count_travel_Times  Personal_rating  \\\n",
              "0                11          2                   3                5   \n",
              "1                11          2                   4                4   \n",
              "2                 1          2                   2                4   \n",
              "3                 1          2                   1                5   \n",
              "4                10          2                   1                5   \n",
              "\n",
              "   total_members  total_cost  Tourists_Spot  \n",
              "0              8        9000              6  \n",
              "1              8        3000              7  \n",
              "2              6        7500              5  \n",
              "3              3        2000             10  \n",
              "4             18        5000              6  "
            ],
            "text/html": [
              "\n",
              "  <div id=\"df-31f0c798-19d4-4f9a-8f77-dddcaf499740\">\n",
              "    <div class=\"colab-df-container\">\n",
              "      <div>\n",
              "<style scoped>\n",
              "    .dataframe tbody tr th:only-of-type {\n",
              "        vertical-align: middle;\n",
              "    }\n",
              "\n",
              "    .dataframe tbody tr th {\n",
              "        vertical-align: top;\n",
              "    }\n",
              "\n",
              "    .dataframe thead th {\n",
              "        text-align: right;\n",
              "    }\n",
              "</style>\n",
              "<table border=\"1\" class=\"dataframe\">\n",
              "  <thead>\n",
              "    <tr style=\"text-align: right;\">\n",
              "      <th></th>\n",
              "      <th>Travelling_month</th>\n",
              "      <th>transport</th>\n",
              "      <th>count_travel_Times</th>\n",
              "      <th>Personal_rating</th>\n",
              "      <th>total_members</th>\n",
              "      <th>total_cost</th>\n",
              "      <th>Tourists_Spot</th>\n",
              "    </tr>\n",
              "  </thead>\n",
              "  <tbody>\n",
              "    <tr>\n",
              "      <th>0</th>\n",
              "      <td>11</td>\n",
              "      <td>2</td>\n",
              "      <td>3</td>\n",
              "      <td>5</td>\n",
              "      <td>8</td>\n",
              "      <td>9000</td>\n",
              "      <td>6</td>\n",
              "    </tr>\n",
              "    <tr>\n",
              "      <th>1</th>\n",
              "      <td>11</td>\n",
              "      <td>2</td>\n",
              "      <td>4</td>\n",
              "      <td>4</td>\n",
              "      <td>8</td>\n",
              "      <td>3000</td>\n",
              "      <td>7</td>\n",
              "    </tr>\n",
              "    <tr>\n",
              "      <th>2</th>\n",
              "      <td>1</td>\n",
              "      <td>2</td>\n",
              "      <td>2</td>\n",
              "      <td>4</td>\n",
              "      <td>6</td>\n",
              "      <td>7500</td>\n",
              "      <td>5</td>\n",
              "    </tr>\n",
              "    <tr>\n",
              "      <th>3</th>\n",
              "      <td>1</td>\n",
              "      <td>2</td>\n",
              "      <td>1</td>\n",
              "      <td>5</td>\n",
              "      <td>3</td>\n",
              "      <td>2000</td>\n",
              "      <td>10</td>\n",
              "    </tr>\n",
              "    <tr>\n",
              "      <th>4</th>\n",
              "      <td>10</td>\n",
              "      <td>2</td>\n",
              "      <td>1</td>\n",
              "      <td>5</td>\n",
              "      <td>18</td>\n",
              "      <td>5000</td>\n",
              "      <td>6</td>\n",
              "    </tr>\n",
              "  </tbody>\n",
              "</table>\n",
              "</div>\n",
              "      <button class=\"colab-df-convert\" onclick=\"convertToInteractive('df-31f0c798-19d4-4f9a-8f77-dddcaf499740')\"\n",
              "              title=\"Convert this dataframe to an interactive table.\"\n",
              "              style=\"display:none;\">\n",
              "        \n",
              "  <svg xmlns=\"http://www.w3.org/2000/svg\" height=\"24px\"viewBox=\"0 0 24 24\"\n",
              "       width=\"24px\">\n",
              "    <path d=\"M0 0h24v24H0V0z\" fill=\"none\"/>\n",
              "    <path d=\"M18.56 5.44l.94 2.06.94-2.06 2.06-.94-2.06-.94-.94-2.06-.94 2.06-2.06.94zm-11 1L8.5 8.5l.94-2.06 2.06-.94-2.06-.94L8.5 2.5l-.94 2.06-2.06.94zm10 10l.94 2.06.94-2.06 2.06-.94-2.06-.94-.94-2.06-.94 2.06-2.06.94z\"/><path d=\"M17.41 7.96l-1.37-1.37c-.4-.4-.92-.59-1.43-.59-.52 0-1.04.2-1.43.59L10.3 9.45l-7.72 7.72c-.78.78-.78 2.05 0 2.83L4 21.41c.39.39.9.59 1.41.59.51 0 1.02-.2 1.41-.59l7.78-7.78 2.81-2.81c.8-.78.8-2.07 0-2.86zM5.41 20L4 18.59l7.72-7.72 1.47 1.35L5.41 20z\"/>\n",
              "  </svg>\n",
              "      </button>\n",
              "      \n",
              "  <style>\n",
              "    .colab-df-container {\n",
              "      display:flex;\n",
              "      flex-wrap:wrap;\n",
              "      gap: 12px;\n",
              "    }\n",
              "\n",
              "    .colab-df-convert {\n",
              "      background-color: #E8F0FE;\n",
              "      border: none;\n",
              "      border-radius: 50%;\n",
              "      cursor: pointer;\n",
              "      display: none;\n",
              "      fill: #1967D2;\n",
              "      height: 32px;\n",
              "      padding: 0 0 0 0;\n",
              "      width: 32px;\n",
              "    }\n",
              "\n",
              "    .colab-df-convert:hover {\n",
              "      background-color: #E2EBFA;\n",
              "      box-shadow: 0px 1px 2px rgba(60, 64, 67, 0.3), 0px 1px 3px 1px rgba(60, 64, 67, 0.15);\n",
              "      fill: #174EA6;\n",
              "    }\n",
              "\n",
              "    [theme=dark] .colab-df-convert {\n",
              "      background-color: #3B4455;\n",
              "      fill: #D2E3FC;\n",
              "    }\n",
              "\n",
              "    [theme=dark] .colab-df-convert:hover {\n",
              "      background-color: #434B5C;\n",
              "      box-shadow: 0px 1px 3px 1px rgba(0, 0, 0, 0.15);\n",
              "      filter: drop-shadow(0px 1px 2px rgba(0, 0, 0, 0.3));\n",
              "      fill: #FFFFFF;\n",
              "    }\n",
              "  </style>\n",
              "\n",
              "      <script>\n",
              "        const buttonEl =\n",
              "          document.querySelector('#df-31f0c798-19d4-4f9a-8f77-dddcaf499740 button.colab-df-convert');\n",
              "        buttonEl.style.display =\n",
              "          google.colab.kernel.accessAllowed ? 'block' : 'none';\n",
              "\n",
              "        async function convertToInteractive(key) {\n",
              "          const element = document.querySelector('#df-31f0c798-19d4-4f9a-8f77-dddcaf499740');\n",
              "          const dataTable =\n",
              "            await google.colab.kernel.invokeFunction('convertToInteractive',\n",
              "                                                     [key], {});\n",
              "          if (!dataTable) return;\n",
              "\n",
              "          const docLinkHtml = 'Like what you see? Visit the ' +\n",
              "            '<a target=\"_blank\" href=https://colab.research.google.com/notebooks/data_table.ipynb>data table notebook</a>'\n",
              "            + ' to learn more about interactive tables.';\n",
              "          element.innerHTML = '';\n",
              "          dataTable['output_type'] = 'display_data';\n",
              "          await google.colab.output.renderOutput(dataTable, element);\n",
              "          const docLink = document.createElement('div');\n",
              "          docLink.innerHTML = docLinkHtml;\n",
              "          element.appendChild(docLink);\n",
              "        }\n",
              "      </script>\n",
              "    </div>\n",
              "  </div>\n",
              "  "
            ]
          },
          "metadata": {},
          "execution_count": 10
        }
      ]
    },
    {
      "cell_type": "code",
      "source": [
        "plt.figure(figsize=(12,6))\n",
        "sns.heatmap(myFile.corr(), annot= True, cmap='terrain')"
      ],
      "metadata": {
        "colab": {
          "base_uri": "https://localhost:8080/",
          "height": 482
        },
        "id": "NwroL_Y1sTLf",
        "outputId": "2c746d25-d461-4f04-b29b-7f1495ad586a"
      },
      "execution_count": 11,
      "outputs": [
        {
          "output_type": "execute_result",
          "data": {
            "text/plain": [
              "<matplotlib.axes._subplots.AxesSubplot at 0x7f6abd5c1460>"
            ]
          },
          "metadata": {},
          "execution_count": 11
        },
        {
          "output_type": "display_data",
          "data": {
            "text/plain": [
              "<Figure size 864x432 with 2 Axes>"
            ],
            "image/png": "[encoded data removed]"
          },
          "metadata": {
            "needs_background": "light"
          }
        }
      ]
    },
    {
      "cell_type": "code",
      "source": [
        "sns.countplot(x='Tourists_Spot',data=myFile,palette='colorblind',edgecolor= sns.color_palette('dark',n_colors=1))"
      ],
      "metadata": {
        "colab": {
          "base_uri": "https://localhost:8080/",
          "height": 297
        },
        "id": "Md2IxbDcuPVv",
        "outputId": "2affaa37-a6a3-473d-dca0-733176c6bbdd"
      },
      "execution_count": 12,
      "outputs": [
        {
          "output_type": "execute_result",
          "data": {
            "text/plain": [
              "<matplotlib.axes._subplots.AxesSubplot at 0x7f6abac5c550>"
            ]
          },
          "metadata": {},
          "execution_count": 12
        },
        {
          "output_type": "display_data",
          "data": {
            "text/plain": [
              "<Figure size 432x288 with 1 Axes>"
            ],
            "image/png": "[encoded data removed]"
          },
          "metadata": {
            "needs_background": "light"
          }
        }
      ]
    },
    {
      "cell_type": "code",
      "source": [
        "sns.catplot(data= myFile, x='Tourists_Spot', y='total_cost', palette='husl')"
      ],
      "metadata": {
        "colab": {
          "base_uri": "https://localhost:8080/",
          "height": 386
        },
        "id": "VZ6HHY2_vAQu",
        "outputId": "6f71aca8-72bd-4ffe-f71a-8f9c8069958d"
      },
      "execution_count": 13,
      "outputs": [
        {
          "output_type": "execute_result",
          "data": {
            "text/plain": [
              "<seaborn.axisgrid.FacetGrid at 0x7f6aba6275b0>"
            ]
          },
          "metadata": {},
          "execution_count": 13
        },
        {
          "output_type": "display_data",
          "data": {
            "text/plain": [
              "<Figure size 360x360 with 1 Axes>"
            ],
            "image/png": "[encoded data removed]"
          },
          "metadata": {
            "needs_background": "light"
          }
        }
      ]
    },
    {
      "cell_type": "code",
      "source": [
        "sns.catplot(data= myFile, x='Tourists_Spot', y='Personal_rating', palette='husl')"
      ],
      "metadata": {
        "colab": {
          "base_uri": "https://localhost:8080/",
          "height": 386
        },
        "id": "LU2i_2PVwLqP",
        "outputId": "d9d3e2e7-36f9-49e7-f348-3010ae55435d"
      },
      "execution_count": 14,
      "outputs": [
        {
          "output_type": "execute_result",
          "data": {
            "text/plain": [
              "<seaborn.axisgrid.FacetGrid at 0x7f6aba64a9d0>"
            ]
          },
          "metadata": {},
          "execution_count": 14
        },
        {
          "output_type": "display_data",
          "data": {
            "text/plain": [
              "<Figure size 360x360 with 1 Axes>"
            ],
            "image/png": "[encoded data removed]"
          },
          "metadata": {
            "needs_background": "light"
          }
        }
      ]
    },
    {
      "cell_type": "code",
      "source": [
        "myFile['Tourists_Spot'].value_counts()"
      ],
      "metadata": {
        "colab": {
          "base_uri": "https://localhost:8080/"
        },
        "id": "hTEtYk8Vs3fs",
        "outputId": "5a0b8c49-c4cd-4765-f72f-55a0814239cf"
      },
      "execution_count": 15,
      "outputs": [
        {
          "output_type": "execute_result",
          "data": {
            "text/plain": [
              "9     136\n",
              "10    126\n",
              "5     121\n",
              "6     115\n",
              "0     114\n",
              "1     114\n",
              "3     108\n",
              "2     102\n",
              "4     102\n",
              "8     101\n",
              "7      99\n",
              "Name: Tourists_Spot, dtype: int64"
            ]
          },
          "metadata": {},
          "execution_count": 15
        }
      ]
    },
    {
      "cell_type": "code",
      "source": [
        "myFile['transport'].value_counts()"
      ],
      "metadata": {
        "colab": {
          "base_uri": "https://localhost:8080/"
        },
        "id": "uITdLCJV3vFc",
        "outputId": "bdef019f-9bb5-4ec2-8063-b1b1e5e165c5"
      },
      "execution_count": 16,
      "outputs": [
        {
          "output_type": "execute_result",
          "data": {
            "text/plain": [
              "2    711\n",
              "1    212\n",
              "4    199\n",
              "5     87\n",
              "3     29\n",
              "Name: transport, dtype: int64"
            ]
          },
          "metadata": {},
          "execution_count": 16
        }
      ]
    },
    {
      "cell_type": "code",
      "source": [
        "x= myFile.iloc[:,:-1]\n",
        "x"
      ],
      "metadata": {
        "colab": {
          "base_uri": "https://localhost:8080/",
          "height": 423
        },
        "id": "YgP2L6hetkkc",
        "outputId": "33b3946d-2d59-485a-c084-df71a5f6a69f"
      },
      "execution_count": 17,
      "outputs": [
        {
          "output_type": "execute_result",
          "data": {
            "text/plain": [
              "      Travelling_month  transport  count_travel_Times  Personal_rating  \\\n",
              "0                   11          2                   3                5   \n",
              "1                   11          2                   4                4   \n",
              "2                    1          2                   2                4   \n",
              "3                    1          2                   1                5   \n",
              "4                   10          2                   1                5   \n",
              "...                ...        ...                 ...              ...   \n",
              "1233                 3          2                   2                4   \n",
              "1234                 3          2                   2                4   \n",
              "1235                 2          2                   2                4   \n",
              "1236                 3          2                   2                4   \n",
              "1237                 3          2                   2                4   \n",
              "\n",
              "      total_members  total_cost  \n",
              "0                 8        9000  \n",
              "1                 8        3000  \n",
              "2                 6        7500  \n",
              "3                 3        2000  \n",
              "4                18        5000  \n",
              "...             ...         ...  \n",
              "1233              5        5000  \n",
              "1234              5        5000  \n",
              "1235              8        8500  \n",
              "1236              5        5000  \n",
              "1237              5        5000  \n",
              "\n",
              "[1238 rows x 6 columns]"
            ],
            "text/html": [
              "\n",
              "  <div id=\"df-80915ca9-a5c7-4e36-8c97-923f90b426be\">\n",
              "    <div class=\"colab-df-container\">\n",
              "      <div>\n",
              "<style scoped>\n",
              "    .dataframe tbody tr th:only-of-type {\n",
              "        vertical-align: middle;\n",
              "    }\n",
              "\n",
              "    .dataframe tbody tr th {\n",
              "        vertical-align: top;\n",
              "    }\n",
              "\n",
              "    .dataframe thead th {\n",
              "        text-align: right;\n",
              "    }\n",
              "</style>\n",
              "<table border=\"1\" class=\"dataframe\">\n",
              "  <thead>\n",
              "    <tr style=\"text-align: right;\">\n",
              "      <th></th>\n",
              "      <th>Travelling_month</th>\n",
              "      <th>transport</th>\n",
              "      <th>count_travel_Times</th>\n",
              "      <th>Personal_rating</th>\n",
              "      <th>total_members</th>\n",
              "      <th>total_cost</th>\n",
              "    </tr>\n",
              "  </thead>\n",
              "  <tbody>\n",
              "    <tr>\n",
              "      <th>0</th>\n",
              "      <td>11</td>\n",
              "      <td>2</td>\n",
              "      <td>3</td>\n",
              "      <td>5</td>\n",
              "      <td>8</td>\n",
              "      <td>9000</td>\n",
              "    </tr>\n",
              "    <tr>\n",
              "      <th>1</th>\n",
              "      <td>11</td>\n",
              "      <td>2</td>\n",
              "      <td>4</td>\n",
              "      <td>4</td>\n",
              "      <td>8</td>\n",
              "      <td>3000</td>\n",
              "    </tr>\n",
              "    <tr>\n",
              "      <th>2</th>\n",
              "      <td>1</td>\n",
              "      <td>2</td>\n",
              "      <td>2</td>\n",
              "      <td>4</td>\n",
              "      <td>6</td>\n",
              "      <td>7500</td>\n",
              "    </tr>\n",
              "    <tr>\n",
              "      <th>3</th>\n",
              "      <td>1</td>\n",
              "      <td>2</td>\n",
              "      <td>1</td>\n",
              "      <td>5</td>\n",
              "      <td>3</td>\n",
              "      <td>2000</td>\n",
              "    </tr>\n",
              "    <tr>\n",
              "      <th>4</th>\n",
              "      <td>10</td>\n",
              "      <td>2</td>\n",
              "      <td>1</td>\n",
              "      <td>5</td>\n",
              "      <td>18</td>\n",
              "      <td>5000</td>\n",
              "    </tr>\n",
              "    <tr>\n",
              "      <th>...</th>\n",
              "      <td>...</td>\n",
              "      <td>...</td>\n",
              "      <td>...</td>\n",
              "      <td>...</td>\n",
              "      <td>...</td>\n",
              "      <td>...</td>\n",
              "    </tr>\n",
              "    <tr>\n",
              "      <th>1233</th>\n",
              "      <td>3</td>\n",
              "      <td>2</td>\n",
              "      <td>2</td>\n",
              "      <td>4</td>\n",
              "      <td>5</td>\n",
              "      <td>5000</td>\n",
              "    </tr>\n",
              "    <tr>\n",
              "      <th>1234</th>\n",
              "      <td>3</td>\n",
              "      <td>2</td>\n",
              "      <td>2</td>\n",
              "      <td>4</td>\n",
              "      <td>5</td>\n",
              "      <td>5000</td>\n",
              "    </tr>\n",
              "    <tr>\n",
              "      <th>1235</th>\n",
              "      <td>2</td>\n",
              "      <td>2</td>\n",
              "      <td>2</td>\n",
              "      <td>4</td>\n",
              "      <td>8</td>\n",
              "      <td>8500</td>\n",
              "    </tr>\n",
              "    <tr>\n",
              "      <th>1236</th>\n",
              "      <td>3</td>\n",
              "      <td>2</td>\n",
              "      <td>2</td>\n",
              "      <td>4</td>\n",
              "      <td>5</td>\n",
              "      <td>5000</td>\n",
              "    </tr>\n",
              "    <tr>\n",
              "      <th>1237</th>\n",
              "      <td>3</td>\n",
              "      <td>2</td>\n",
              "      <td>2</td>\n",
              "      <td>4</td>\n",
              "      <td>5</td>\n",
              "      <td>5000</td>\n",
              "    </tr>\n",
              "  </tbody>\n",
              "</table>\n",
              "<p>1238 rows × 6 columns</p>\n",
              "</div>\n",
              "      <button class=\"colab-df-convert\" onclick=\"convertToInteractive('df-80915ca9-a5c7-4e36-8c97-923f90b426be')\"\n",
              "              title=\"Convert this dataframe to an interactive table.\"\n",
              "              style=\"display:none;\">\n",
              "        \n",
              "  <svg xmlns=\"http://www.w3.org/2000/svg\" height=\"24px\"viewBox=\"0 0 24 24\"\n",
              "       width=\"24px\">\n",
              "    <path d=\"M0 0h24v24H0V0z\" fill=\"none\"/>\n",
              "    <path d=\"M18.56 5.44l.94 2.06.94-2.06 2.06-.94-2.06-.94-.94-2.06-.94 2.06-2.06.94zm-11 1L8.5 8.5l.94-2.06 2.06-.94-2.06-.94L8.5 2.5l-.94 2.06-2.06.94zm10 10l.94 2.06.94-2.06 2.06-.94-2.06-.94-.94-2.06-.94 2.06-2.06.94z\"/><path d=\"M17.41 7.96l-1.37-1.37c-.4-.4-.92-.59-1.43-.59-.52 0-1.04.2-1.43.59L10.3 9.45l-7.72 7.72c-.78.78-.78 2.05 0 2.83L4 21.41c.39.39.9.59 1.41.59.51 0 1.02-.2 1.41-.59l7.78-7.78 2.81-2.81c.8-.78.8-2.07 0-2.86zM5.41 20L4 18.59l7.72-7.72 1.47 1.35L5.41 20z\"/>\n",
              "  </svg>\n",
              "      </button>\n",
              "      \n",
              "  <style>\n",
              "    .colab-df-container {\n",
              "      display:flex;\n",
              "      flex-wrap:wrap;\n",
              "      gap: 12px;\n",
              "    }\n",
              "\n",
              "    .colab-df-convert {\n",
              "      background-color: #E8F0FE;\n",
              "      border: none;\n",
              "      border-radius: 50%;\n",
              "      cursor: pointer;\n",
              "      display: none;\n",
              "      fill: #1967D2;\n",
              "      height: 32px;\n",
              "      padding: 0 0 0 0;\n",
              "      width: 32px;\n",
              "    }\n",
              "\n",
              "    .colab-df-convert:hover {\n",
              "      background-color: #E2EBFA;\n",
              "      box-shadow: 0px 1px 2px rgba(60, 64, 67, 0.3), 0px 1px 3px 1px rgba(60, 64, 67, 0.15);\n",
              "      fill: #174EA6;\n",
              "    }\n",
              "\n",
              "    [theme=dark] .colab-df-convert {\n",
              "      background-color: #3B4455;\n",
              "      fill: #D2E3FC;\n",
              "    }\n",
              "\n",
              "    [theme=dark] .colab-df-convert:hover {\n",
              "      background-color: #434B5C;\n",
              "      box-shadow: 0px 1px 3px 1px rgba(0, 0, 0, 0.15);\n",
              "      filter: drop-shadow(0px 1px 2px rgba(0, 0, 0, 0.3));\n",
              "      fill: #FFFFFF;\n",
              "    }\n",
              "  </style>\n",
              "\n",
              "      <script>\n",
              "        const buttonEl =\n",
              "          document.querySelector('#df-80915ca9-a5c7-4e36-8c97-923f90b426be button.colab-df-convert');\n",
              "        buttonEl.style.display =\n",
              "          google.colab.kernel.accessAllowed ? 'block' : 'none';\n",
              "\n",
              "        async function convertToInteractive(key) {\n",
              "          const element = document.querySelector('#df-80915ca9-a5c7-4e36-8c97-923f90b426be');\n",
              "          const dataTable =\n",
              "            await google.colab.kernel.invokeFunction('convertToInteractive',\n",
              "                                                     [key], {});\n",
              "          if (!dataTable) return;\n",
              "\n",
              "          const docLinkHtml = 'Like what you see? Visit the ' +\n",
              "            '<a target=\"_blank\" href=https://colab.research.google.com/notebooks/data_table.ipynb>data table notebook</a>'\n",
              "            + ' to learn more about interactive tables.';\n",
              "          element.innerHTML = '';\n",
              "          dataTable['output_type'] = 'display_data';\n",
              "          await google.colab.output.renderOutput(dataTable, element);\n",
              "          const docLink = document.createElement('div');\n",
              "          docLink.innerHTML = docLinkHtml;\n",
              "          element.appendChild(docLink);\n",
              "        }\n",
              "      </script>\n",
              "    </div>\n",
              "  </div>\n",
              "  "
            ]
          },
          "metadata": {},
          "execution_count": 17
        }
      ]
    },
    {
      "cell_type": "code",
      "source": [
        "y= myFile['Tourists_Spot']\n",
        "y"
      ],
      "metadata": {
        "colab": {
          "base_uri": "https://localhost:8080/"
        },
        "id": "5f2SGISVtrm_",
        "outputId": "2f62a424-397e-4433-f79b-a04f5dd3c195"
      },
      "execution_count": 18,
      "outputs": [
        {
          "output_type": "execute_result",
          "data": {
            "text/plain": [
              "0        6\n",
              "1        7\n",
              "2        5\n",
              "3       10\n",
              "4        6\n",
              "        ..\n",
              "1233     3\n",
              "1234     3\n",
              "1235     5\n",
              "1236     3\n",
              "1237     3\n",
              "Name: Tourists_Spot, Length: 1238, dtype: int64"
            ]
          },
          "metadata": {},
          "execution_count": 18
        }
      ]
    },
    {
      "cell_type": "code",
      "source": [
        "Xtrain, Xtest, Ytrain, Ytest= train_test_split(x,y, test_size= 0.2)"
      ],
      "metadata": {
        "id": "hTnzYd5ct0FM"
      },
      "execution_count": 19,
      "outputs": []
    },
    {
      "cell_type": "code",
      "source": [
        "dt_model= DecisionTreeClassifier()\n",
        "dt_model.fit(Xtrain,Ytrain)"
      ],
      "metadata": {
        "colab": {
          "base_uri": "https://localhost:8080/"
        },
        "id": "i5Cgqfgqt7gt",
        "outputId": "fd225cb8-a491-4f78-ff8d-ae11ff30a8c8"
      },
      "execution_count": 20,
      "outputs": [
        {
          "output_type": "execute_result",
          "data": {
            "text/plain": [
              "DecisionTreeClassifier()"
            ]
          },
          "metadata": {},
          "execution_count": 20
        }
      ]
    },
    {
      "cell_type": "code",
      "source": [
        "print(\"Decission Tree Result: \")\n",
        "print(f'Testing Accuracy - : {dt_model.score(Xtest,Ytest)*100:.3f} %')"
      ],
      "metadata": {
        "colab": {
          "base_uri": "https://localhost:8080/"
        },
        "id": "U8kuaJd-uBhz",
        "outputId": "bd55ea92-309d-46c4-ddc2-a5a3526e57a4"
      },
      "execution_count": 21,
      "outputs": [
        {
          "output_type": "stream",
          "name": "stdout",
          "text": [
            "Decission Tree Result: \n",
            "Testing Accuracy - : 80.242 %\n"
          ]
        }
      ]
    },
    {
      "cell_type": "markdown",
      "source": [
        "Confusion Metrix"
      ],
      "metadata": {
        "id": "WGAj-grJyXyu"
      }
    },
    {
      "cell_type": "code",
      "source": [
        "print(f\"Confusion Matrix for training Score: \\n {confusion_matrix(Ytrain, dt_model.predict(Xtrain))}\\n\")\n",
        "print(f\"Confusion Matrix for testing Score: \\n {confusion_matrix(Ytest, dt_model.predict(Xtest))}\\n\")"
      ],
      "metadata": {
        "colab": {
          "base_uri": "https://localhost:8080/"
        },
        "id": "s5lNeDPgyRqf",
        "outputId": "928ecdf4-a1e4-4eab-a234-f96bdb0cb056"
      },
      "execution_count": 22,
      "outputs": [
        {
          "output_type": "stream",
          "name": "stdout",
          "text": [
            "Confusion Matrix for training Score: \n",
            " [[ 93   0   0   0   0   0   0   0   0   0   0]\n",
            " [  0  97   0   0   0   0   0   0   0   0   0]\n",
            " [  0   0  78   0   0   0   0   0   0   0   0]\n",
            " [  0   0   0  78   0   0   0   0   0   0   0]\n",
            " [  0   0   0   0  81   0   0   0   0   0   0]\n",
            " [  0   0   0   0   0 100   0   0   0   0   0]\n",
            " [  0   1   0   0   0   0  88   0   0   0   0]\n",
            " [  0   0   0   0   0   0   0  75   0   0   0]\n",
            " [  0   0   0   0   0   0   0   0  80   0   0]\n",
            " [  0   1   0   0   0   0   0   0   0 110   0]\n",
            " [  0   0   0   0   0   0   0   0   0   0 108]]\n",
            "\n",
            "Confusion Matrix for testing Score: \n",
            " [[19  1  0  0  0  1  0  0  0  0  0]\n",
            " [ 0 14  0  0  0  1  1  0  0  0  1]\n",
            " [ 2  0 22  0  0  0  0  0  0  0  0]\n",
            " [ 1  0  0 20  0  0  3  0  2  4  0]\n",
            " [ 1  0  0  1 17  0  2  0  0  0  0]\n",
            " [ 0  1  1  0  0 19  0  0  0  0  0]\n",
            " [ 2  2  1  1  1  0 18  0  0  1  0]\n",
            " [ 0  0  0  0  0  0  0 19  0  3  2]\n",
            " [ 0  0  0  0  0  1  1  0 18  1  0]\n",
            " [ 0  0  1  0  0  1  2  2  0 17  2]\n",
            " [ 0  0  0  0  0  0  0  1  0  1 16]]\n",
            "\n"
          ]
        }
      ]
    },
    {
      "cell_type": "code",
      "source": [
        "print(classification_report(Ytest, dt_model.predict(Xtest)))"
      ],
      "metadata": {
        "colab": {
          "base_uri": "https://localhost:8080/"
        },
        "id": "iXfgskUPy8Tn",
        "outputId": "66660d89-6388-4b25-b09d-6db0880a053a"
      },
      "execution_count": 23,
      "outputs": [
        {
          "output_type": "stream",
          "name": "stdout",
          "text": [
            "              precision    recall  f1-score   support\n",
            "\n",
            "           0       0.76      0.90      0.83        21\n",
            "           1       0.78      0.82      0.80        17\n",
            "           2       0.88      0.92      0.90        24\n",
            "           3       0.91      0.67      0.77        30\n",
            "           4       0.94      0.81      0.87        21\n",
            "           5       0.83      0.90      0.86        21\n",
            "           6       0.67      0.69      0.68        26\n",
            "           7       0.86      0.79      0.83        24\n",
            "           8       0.90      0.86      0.88        21\n",
            "           9       0.63      0.68      0.65        25\n",
            "          10       0.76      0.89      0.82        18\n",
            "\n",
            "    accuracy                           0.80       248\n",
            "   macro avg       0.81      0.81      0.81       248\n",
            "weighted avg       0.81      0.80      0.80       248\n",
            "\n"
          ]
        }
      ]
    },
    {
      "cell_type": "code",
      "source": [
        "plot_confusion_matrix(dt_model, Xtest, Ytest)  \n",
        "plt.show()"
      ],
      "metadata": {
        "colab": {
          "base_uri": "https://localhost:8080/",
          "height": 334
        },
        "id": "TSrCPjPgzBVG",
        "outputId": "3194165f-03c2-43f2-8480-65ae2ca8ccef"
      },
      "execution_count": 24,
      "outputs": [
        {
          "output_type": "stream",
          "name": "stderr",
          "text": [
            "/usr/local/lib/python3.8/dist-packages/sklearn/utils/deprecation.py:87: FutureWarning: Function plot_confusion_matrix is deprecated; Function `plot_confusion_matrix` is deprecated in 1.0 and will be removed in 1.2. Use one of the class methods: ConfusionMatrixDisplay.from_predictions or ConfusionMatrixDisplay.from_estimator.\n",
            "  warnings.warn(msg, category=FutureWarning)\n"
          ]
        },
        {
          "output_type": "display_data",
          "data": {
            "text/plain": [
              "<Figure size 432x288 with 2 Axes>"
            ],
            "image/png": "[encoded data removed]"
          },
          "metadata": {
            "needs_background": "light"
          }
        }
      ]
    },
    {
      "cell_type": "markdown",
      "source": [
        "Random forest"
      ],
      "metadata": {
        "id": "j5vWzuMdcUr0"
      }
    },
    {
      "cell_type": "code",
      "source": [
        "rf_model= RandomForestClassifier()"
      ],
      "metadata": {
        "id": "2CRtvOV8cW9D"
      },
      "execution_count": 25,
      "outputs": []
    },
    {
      "cell_type": "code",
      "source": [
        "rf_model.fit(Xtrain,Ytrain)"
      ],
      "metadata": {
        "colab": {
          "base_uri": "https://localhost:8080/"
        },
        "id": "0ecxvhgXcTqH",
        "outputId": "571c5644-4a86-4a1c-dc64-c3ce509a1015"
      },
      "execution_count": 26,
      "outputs": [
        {
          "output_type": "execute_result",
          "data": {
            "text/plain": [
              "RandomForestClassifier()"
            ]
          },
          "metadata": {},
          "execution_count": 26
        }
      ]
    },
    {
      "cell_type": "code",
      "source": [
        "# Make predictions for the test set\n",
        "y_pred_test = rf_model.predict(Xtest)"
      ],
      "metadata": {
        "id": "I-VcuRQFcr0O"
      },
      "execution_count": 27,
      "outputs": []
    },
    {
      "cell_type": "code",
      "source": [
        "# View accuracy score\n",
        "accuracy_score(Ytest, y_pred_test)"
      ],
      "metadata": {
        "colab": {
          "base_uri": "https://localhost:8080/"
        },
        "id": "tMBp2cmrcvXY",
        "outputId": "0b82aa2d-a983-4840-c372-f98d81a3111d"
      },
      "execution_count": 28,
      "outputs": [
        {
          "output_type": "execute_result",
          "data": {
            "text/plain": [
              "0.8306451612903226"
            ]
          },
          "metadata": {},
          "execution_count": 28
        }
      ]
    },
    {
      "cell_type": "code",
      "source": [
        "\n",
        "print(f\"Testing Accuracy Score: {rf_model.score(Xtest,Ytest)*100:.3f} %\")"
      ],
      "metadata": {
        "colab": {
          "base_uri": "https://localhost:8080/"
        },
        "id": "NyMtcezSc1Bm",
        "outputId": "45ce717a-9510-4085-cfad-b6391cee842e"
      },
      "execution_count": 29,
      "outputs": [
        {
          "output_type": "stream",
          "name": "stdout",
          "text": [
            "Testing Accuracy Score: 83.065 %\n"
          ]
        }
      ]
    },
    {
      "cell_type": "markdown",
      "source": [
        "confusion metrix"
      ],
      "metadata": {
        "id": "mqMC2Dje1T3P"
      }
    },
    {
      "cell_type": "code",
      "source": [
        "print(f\"Confusion Matrix for training Score: \\n {confusion_matrix(Ytrain, rf_model.predict(Xtrain))}\\n\")\n",
        "print(f\"Confusion Matrix for testing Score: \\n {confusion_matrix(Ytest, rf_model.predict(Xtest))}\\n\")"
      ],
      "metadata": {
        "colab": {
          "base_uri": "https://localhost:8080/"
        },
        "id": "BqlYw0cM1Odx",
        "outputId": "e61a054b-c1f0-4278-f868-404c2f9c2a54"
      },
      "execution_count": 30,
      "outputs": [
        {
          "output_type": "stream",
          "name": "stdout",
          "text": [
            "Confusion Matrix for training Score: \n",
            " [[ 93   0   0   0   0   0   0   0   0   0   0]\n",
            " [  0  96   0   0   0   0   0   0   0   1   0]\n",
            " [  0   0  78   0   0   0   0   0   0   0   0]\n",
            " [  0   0   0  78   0   0   0   0   0   0   0]\n",
            " [  0   0   0   0  81   0   0   0   0   0   0]\n",
            " [  0   0   0   0   0 100   0   0   0   0   0]\n",
            " [  0   1   0   0   0   0  88   0   0   0   0]\n",
            " [  0   0   0   0   0   0   0  75   0   0   0]\n",
            " [  0   0   0   0   0   0   0   0  80   0   0]\n",
            " [  0   0   0   0   0   0   0   0   0 111   0]\n",
            " [  0   0   0   0   0   0   0   0   0   0 108]]\n",
            "\n",
            "Confusion Matrix for testing Score: \n",
            " [[19  1  0  0  0  0  1  0  0  0  0]\n",
            " [ 0 13  1  0  0  0  1  1  0  1  0]\n",
            " [ 0  0 22  0  0  0  2  0  0  0  0]\n",
            " [ 0  0  0 22  0  0  1  0  0  7  0]\n",
            " [ 1  0  0  1 17  1  1  0  0  0  0]\n",
            " [ 0  0  1  0  0 19  0  0  1  0  0]\n",
            " [ 1  4  0  0  0  0 19  0  0  2  0]\n",
            " [ 0  0  0  0  0  0  0 19  0  2  3]\n",
            " [ 0  0  0  1  0  0  1  0 19  0  0]\n",
            " [ 0  0  0  0  0  0  2  1  0 20  2]\n",
            " [ 0  0  0  0  0  0  0  0  0  1 17]]\n",
            "\n"
          ]
        }
      ]
    },
    {
      "cell_type": "code",
      "source": [
        "print(classification_report(Ytest, rf_model.predict(Xtest)))"
      ],
      "metadata": {
        "colab": {
          "base_uri": "https://localhost:8080/"
        },
        "id": "oZg9U36G1aym",
        "outputId": "2d4562dd-bbdd-4dc6-aad6-fef8c3803fee"
      },
      "execution_count": 31,
      "outputs": [
        {
          "output_type": "stream",
          "name": "stdout",
          "text": [
            "              precision    recall  f1-score   support\n",
            "\n",
            "           0       0.90      0.90      0.90        21\n",
            "           1       0.72      0.76      0.74        17\n",
            "           2       0.92      0.92      0.92        24\n",
            "           3       0.92      0.73      0.81        30\n",
            "           4       1.00      0.81      0.89        21\n",
            "           5       0.95      0.90      0.93        21\n",
            "           6       0.68      0.73      0.70        26\n",
            "           7       0.90      0.79      0.84        24\n",
            "           8       0.95      0.90      0.93        21\n",
            "           9       0.61      0.80      0.69        25\n",
            "          10       0.77      0.94      0.85        18\n",
            "\n",
            "    accuracy                           0.83       248\n",
            "   macro avg       0.85      0.84      0.84       248\n",
            "weighted avg       0.85      0.83      0.83       248\n",
            "\n"
          ]
        }
      ]
    },
    {
      "cell_type": "code",
      "source": [
        "plot_confusion_matrix(rf_model, Xtest, Ytest)  \n",
        "plt.show()"
      ],
      "metadata": {
        "id": "IEYdmvaK1iwH",
        "outputId": "fa21049d-8e6b-4c38-8314-e93da39a19cf",
        "colab": {
          "base_uri": "https://localhost:8080/",
          "height": 334
        }
      },
      "execution_count": 32,
      "outputs": [
        {
          "output_type": "stream",
          "name": "stderr",
          "text": [
            "/usr/local/lib/python3.8/dist-packages/sklearn/utils/deprecation.py:87: FutureWarning: Function plot_confusion_matrix is deprecated; Function `plot_confusion_matrix` is deprecated in 1.0 and will be removed in 1.2. Use one of the class methods: ConfusionMatrixDisplay.from_predictions or ConfusionMatrixDisplay.from_estimator.\n",
            "  warnings.warn(msg, category=FutureWarning)\n"
          ]
        },
        {
          "output_type": "display_data",
          "data": {
            "text/plain": [
              "<Figure size 432x288 with 2 Axes>"
            ],
            "image/png": "[encoded data removed]"
          },
          "metadata": {
            "needs_background": "light"
          }
        }
      ]
    },
    {
      "cell_type": "markdown",
      "source": [
        "K- nearest neighbors Algorithm"
      ],
      "metadata": {
        "id": "GMSh7cade1XS"
      }
    },
    {
      "cell_type": "code",
      "source": [
        "knn= KNeighborsClassifier(n_neighbors=3)"
      ],
      "metadata": {
        "id": "P50OnZSPe2HA"
      },
      "execution_count": 33,
      "outputs": []
    },
    {
      "cell_type": "code",
      "source": [
        "knn.fit(Xtrain,Ytrain)"
      ],
      "metadata": {
        "colab": {
          "base_uri": "https://localhost:8080/"
        },
        "id": "w_IiEC-BfDU4",
        "outputId": "9e9deb77-747e-48c7-d4a0-6fca8c1535a2"
      },
      "execution_count": 34,
      "outputs": [
        {
          "output_type": "execute_result",
          "data": {
            "text/plain": [
              "KNeighborsClassifier(n_neighbors=3)"
            ]
          },
          "metadata": {},
          "execution_count": 34
        }
      ]
    },
    {
      "cell_type": "code",
      "source": [
        "\n",
        "print(f\"Testing Accuracy Score: {accuracy_score(Ytest, knn.predict(Xtest)) * 100:.3f}%\")"
      ],
      "metadata": {
        "colab": {
          "base_uri": "https://localhost:8080/"
        },
        "id": "pAMq0m1HfGIl",
        "outputId": "21239bbe-e4fc-48f9-f43b-1d497053381d"
      },
      "execution_count": 35,
      "outputs": [
        {
          "output_type": "stream",
          "name": "stdout",
          "text": [
            "Testing Accuracy Score: 70.565%\n"
          ]
        }
      ]
    },
    {
      "cell_type": "code",
      "source": [
        "print(f\"Confusion Matrix for training Score: \\n {confusion_matrix(Ytrain, knn.predict(Xtrain))}\\n\")\n",
        "print(f\"Confusion Matrix for testing Score: \\n {confusion_matrix(Ytest, knn.predict(Xtest))}\\n\")"
      ],
      "metadata": {
        "colab": {
          "base_uri": "https://localhost:8080/"
        },
        "id": "elGZaztIFj6D",
        "outputId": "0e4b2787-79c2-4bb1-adef-932de8e92f49"
      },
      "execution_count": 36,
      "outputs": [
        {
          "output_type": "stream",
          "name": "stdout",
          "text": [
            "Confusion Matrix for training Score: \n",
            " [[ 87   0   0   1   0   2   1   0   0   2   0]\n",
            " [  9  73   1   2   2   4   3   0   0   3   0]\n",
            " [  1   2  75   0   0   0   0   0   0   0   0]\n",
            " [  4   4   1  59   0   4   1   2   2   1   0]\n",
            " [  3   2   0   1  74   0   1   0   0   0   0]\n",
            " [  3   7   1   2   0  84   2   0   0   1   0]\n",
            " [ 12  11   1   9   4   2  48   0   0   2   0]\n",
            " [  1   0   0   0   1   0   0  70   0   2   1]\n",
            " [  1   1   1   2   0   1   1   1  72   0   0]\n",
            " [ 10   5   1   6   3   0   2   2   1  76   5]\n",
            " [  1   0   0   0   1   0   0   2   0   2 102]]\n",
            "\n",
            "Confusion Matrix for testing Score: \n",
            " [[19  2  0  0  0  0  0  0  0  0  0]\n",
            " [ 2 12  0  1  0  0  0  1  0  1  0]\n",
            " [ 2  0 22  0  0  0  0  0  0  0  0]\n",
            " [ 2  4  1 13  2  0  1  1  0  6  0]\n",
            " [ 0  1  0  1 17  0  2  0  0  0  0]\n",
            " [ 0  2  0  0  1 17  0  0  1  0  0]\n",
            " [ 8  3  0  1  1  0 11  2  0  0  0]\n",
            " [ 0  0  0  0  0  0  0 22  1  0  1]\n",
            " [ 1  0  0  0  0  1  1  0 18  0  0]\n",
            " [ 4  1  1  1  0  2  0  3  0 10  3]\n",
            " [ 0  0  0  0  0  0  0  3  0  1 14]]\n",
            "\n"
          ]
        }
      ]
    },
    {
      "cell_type": "code",
      "source": [
        "print(classification_report(Ytest, knn.predict(Xtest)))"
      ],
      "metadata": {
        "colab": {
          "base_uri": "https://localhost:8080/"
        },
        "id": "-DNXvd6gGDX2",
        "outputId": "f4f71ead-719d-4b18-f78d-43cfb5f0bb44"
      },
      "execution_count": 37,
      "outputs": [
        {
          "output_type": "stream",
          "name": "stdout",
          "text": [
            "              precision    recall  f1-score   support\n",
            "\n",
            "           0       0.50      0.90      0.64        21\n",
            "           1       0.48      0.71      0.57        17\n",
            "           2       0.92      0.92      0.92        24\n",
            "           3       0.76      0.43      0.55        30\n",
            "           4       0.81      0.81      0.81        21\n",
            "           5       0.85      0.81      0.83        21\n",
            "           6       0.73      0.42      0.54        26\n",
            "           7       0.69      0.92      0.79        24\n",
            "           8       0.90      0.86      0.88        21\n",
            "           9       0.56      0.40      0.47        25\n",
            "          10       0.78      0.78      0.78        18\n",
            "\n",
            "    accuracy                           0.71       248\n",
            "   macro avg       0.73      0.72      0.71       248\n",
            "weighted avg       0.73      0.71      0.70       248\n",
            "\n"
          ]
        }
      ]
    },
    {
      "cell_type": "code",
      "source": [
        "plot_confusion_matrix(knn, Xtest, Ytest)  \n",
        "plt.show()"
      ],
      "metadata": {
        "colab": {
          "base_uri": "https://localhost:8080/",
          "height": 334
        },
        "id": "F_1YTh7OGd6S",
        "outputId": "3531f06e-ab0c-457d-fd7b-8fba6f9955e6"
      },
      "execution_count": 38,
      "outputs": [
        {
          "output_type": "stream",
          "name": "stderr",
          "text": [
            "/usr/local/lib/python3.8/dist-packages/sklearn/utils/deprecation.py:87: FutureWarning: Function plot_confusion_matrix is deprecated; Function `plot_confusion_matrix` is deprecated in 1.0 and will be removed in 1.2. Use one of the class methods: ConfusionMatrixDisplay.from_predictions or ConfusionMatrixDisplay.from_estimator.\n",
            "  warnings.warn(msg, category=FutureWarning)\n"
          ]
        },
        {
          "output_type": "display_data",
          "data": {
            "text/plain": [
              "<Figure size 432x288 with 2 Axes>"
            ],
            "image/png": "[encoded data removed]"
          },
          "metadata": {
            "needs_background": "light"
          }
        }
      ]
    }
  ]
}